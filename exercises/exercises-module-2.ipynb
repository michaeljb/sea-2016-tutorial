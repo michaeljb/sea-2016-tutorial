{
 "cells": [
  {
   "cell_type": "markdown",
   "metadata": {
    "ein.tags": [
     "worksheet-0"
    ]
   },
   "source": [
    "<p style=\"float:right\">\n",
    "<img src=\"../images/logos/cu.png\" style=\"display:inline\" />\n",
    "<img src=\"../images/logos/cires.png\" style=\"display:inline\" />\n",
    "<img src=\"../images/logos/nasa.png\" style=\"display:inline\" />\n",
    "<img src=\"../images/logos/nsidc_daac.png\" style=\"display:inline\" />\n",
    "</p>\n",
    "\n",
    "# Python, Jupyter & pandas: Exercises for Module 2"
   ]
  },
  {
   "cell_type": "markdown",
   "metadata": {},
   "source": [
    "For this exercise, we'll use data from January 1 of a different year than the one we worked with in Module 2. Start by evaluating the following cell, which instructs matplotlib to plot in the notebook, imports several libraries we'll need, extracts some NetCDF variables we'll use, and then converts those NetCDF variables to NumPy arrays:"
   ]
  },
  {
   "cell_type": "code",
   "execution_count": null,
   "metadata": {
    "collapsed": false
   },
   "outputs": [],
   "source": [
    "%matplotlib inline\n",
    "import matplotlib.pyplot as plt\n",
    "import numpy as np\n",
    "import netCDF4\n",
    "\n",
    "url = ('http://opendap.apps.nsidc.org:80/opendap/DATASETS/'\n",
    "       'nsidc0530_MEASURES_nhsnow_daily25/2010/nhtsd25e2_20100101_v01r01.nc'\n",
    ")\n",
    "\n",
    "dataset = netCDF4.Dataset(url)\n",
    "\n",
    "latitude = dataset.variables['latitude']\n",
    "longitude = dataset.variables['longitude']\n",
    "\n",
    "lat = latitude[:]\n",
    "lon = longitude[:]"
   ]
  },
  {
   "cell_type": "markdown",
   "metadata": {},
   "source": [
    "In Module 2, we looked at the *merged_snow_cover_extent* variable, which comprises data from several other variables. For this exercise, let's work with one of those other variables, *ims_snow_cover_extent*.\n",
    "\n",
    "Extract the *ims_snow_cover_extent* into a variable named `isce`."
   ]
  },
  {
   "cell_type": "code",
   "execution_count": null,
   "metadata": {
    "collapsed": true
   },
   "outputs": [],
   "source": []
  },
  {
   "cell_type": "markdown",
   "metadata": {},
   "source": [
    "In Module 2, we used matplotlib to visualize the variable *merged_snow_cover_extent* for the whole dataset. We selected 0 for `time`, and all the values for the `latitude` and `longitude`.\n",
    "\n",
    "Plot all the *ims_snow_cover_extent* data the same way we plotted the data for *merged_snow_cover_extent* in Module 2."
   ]
  },
  {
   "cell_type": "code",
   "execution_count": null,
   "metadata": {
    "collapsed": false,
    "scrolled": true
   },
   "outputs": [],
   "source": []
  },
  {
   "cell_type": "markdown",
   "metadata": {},
   "source": [
    "Given that Alaska lies approximately between 51 to 72 degrees north, and 129 to 179 degrees west, find a bounding box on the dataset, using the `lat` and `lon` NumPy arrays, that will encompass Alaska. (We did this in Module 2 for Iceland.)"
   ]
  },
  {
   "cell_type": "code",
   "execution_count": null,
   "metadata": {
    "collapsed": false
   },
   "outputs": [],
   "source": []
  },
  {
   "cell_type": "markdown",
   "metadata": {},
   "source": [
    "Now, use the values of the bounding box to plot the *ims_snow_cover_extent* again, but this time narrowing the focus to just Alaska. Above, we used the `:` syntax to mean \"all the indices\", but here you should use the syntax `lower_bound:upper_bound` to restrict the indices. (Don't worry here about whether upper bounds are inclusive or exclusive.)"
   ]
  },
  {
   "cell_type": "code",
   "execution_count": null,
   "metadata": {
    "collapsed": false
   },
   "outputs": [],
   "source": []
  },
  {
   "cell_type": "markdown",
   "metadata": {},
   "source": [
    "Create a `url_alaska` variable you can use to request Alaska-only data from OPeNDAP."
   ]
  },
  {
   "cell_type": "code",
   "execution_count": null,
   "metadata": {
    "collapsed": true
   },
   "outputs": [],
   "source": []
  },
  {
   "cell_type": "markdown",
   "metadata": {},
   "source": [
    "Create a `dataset_alaska` variable by requesting Alaska-only data from OPeNDAP."
   ]
  },
  {
   "cell_type": "code",
   "execution_count": null,
   "metadata": {
    "collapsed": false
   },
   "outputs": [],
   "source": []
  },
  {
   "cell_type": "markdown",
   "metadata": {},
   "source": [
    "Create an `isce_alaska` variable containing the NetCDF `ims_snow_cover_extent` data for Alaska."
   ]
  },
  {
   "cell_type": "code",
   "execution_count": null,
   "metadata": {
    "collapsed": true
   },
   "outputs": [],
   "source": []
  },
  {
   "cell_type": "markdown",
   "metadata": {},
   "source": [
    "Now, since `isce_alaska` contains only Alaska data due to our constrained OPeNDAP query, plot all the data points in the variable. The picture here should match the picture of just Alaska above."
   ]
  },
  {
   "cell_type": "code",
   "execution_count": null,
   "metadata": {
    "collapsed": false
   },
   "outputs": [],
   "source": []
  },
  {
   "cell_type": "markdown",
   "metadata": {},
   "source": [
    "Inspect the `isce` and/or `isce_alaska` variables and find out how many data elements each contains. What is the ratio of `isce_alaska`'s size to `isce`'s?"
   ]
  },
  {
   "cell_type": "code",
   "execution_count": null,
   "metadata": {
    "collapsed": false
   },
   "outputs": [],
   "source": []
  }
 ],
 "metadata": {
  "anaconda-cloud": {},
  "kernelspec": {
   "display_name": "Python [python3]",
   "language": "python",
   "name": "Python [python3]"
  },
  "language_info": {
   "codemirror_mode": {
    "name": "ipython",
    "version": 3
   },
   "file_extension": ".py",
   "mimetype": "text/x-python",
   "name": "python",
   "nbconvert_exporter": "python",
   "pygments_lexer": "ipython3",
   "version": "3.5.2"
  },
  "name": "module-0.ipynb"
 },
 "nbformat": 4,
 "nbformat_minor": 0
}
