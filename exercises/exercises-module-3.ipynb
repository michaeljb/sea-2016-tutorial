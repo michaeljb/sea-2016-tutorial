{
 "cells": [
  {
   "cell_type": "markdown",
   "metadata": {
    "ein.tags": [
     "worksheet-0"
    ]
   },
   "source": [
    "<p style=\"float:right\">\n",
    "<img src=\"../images/logos/cu.png\" style=\"display:inline\" />\n",
    "<img src=\"../images/logos/cires.png\" style=\"display:inline\" />\n",
    "<img src=\"../images/logos/nasa.png\" style=\"display:inline\" />\n",
    "<img src=\"../images/logos/nsidc_daac.png\" style=\"display:inline\" />\n",
    "</p>\n",
    "\n",
    "# Python, Jupyter & pandas: Exercises for Module 3"
   ]
  },
  {
   "cell_type": "markdown",
   "metadata": {},
   "source": [
    "Run the following cell as-is to do some initial setup, including the definition of a variable pointing to a NetCDF file, included with these tutorial files, containing arctic sea-ice concentration data during the month of September across a range of years."
   ]
  },
  {
   "cell_type": "code",
   "execution_count": null,
   "metadata": {
    "collapsed": false
   },
   "outputs": [],
   "source": [
    "%matplotlib inline\n",
    "from mpl_toolkits.basemap import Basemap\n",
    "import matplotlib.pyplot as plt\n",
    "import netCDF4\n",
    "import numpy as np\n",
    "\n",
    "data_file = '../data/september-concentration.nc'"
   ]
  },
  {
   "cell_type": "markdown",
   "metadata": {},
   "source": [
    "Use the `netCDF4.Dataset` constructor to read the data file into a variable called `dataset`, then print out your new `dataset` variable to get a basic idea of its contents."
   ]
  },
  {
   "cell_type": "code",
   "execution_count": null,
   "metadata": {
    "collapsed": false
   },
   "outputs": [],
   "source": []
  },
  {
   "cell_type": "markdown",
   "metadata": {},
   "source": [
    "Extract the `variables` member of `dataset` into an aptly-names `variables` Python variable, then print it out."
   ]
  },
  {
   "cell_type": "code",
   "execution_count": null,
   "metadata": {
    "collapsed": false
   },
   "outputs": [],
   "source": []
  },
  {
   "cell_type": "markdown",
   "metadata": {},
   "source": [
    "Note the various variables available to you in this dataset, and their properties. In particular, think about the range and shape of each of the variables, and the additional \"flag\" values on the `sea_ice_concentration` variable.\n",
    "\n",
    "Also note the relationship between `sea_ice_concentration` and `time`. What does this tell you about them?\n",
    "\n",
    "Extract the `latitude`, `longitude`, and `sea_ice_concentration` variables out into Python variables of the same names."
   ]
  },
  {
   "cell_type": "code",
   "execution_count": null,
   "metadata": {
    "collapsed": false
   },
   "outputs": [],
   "source": []
  },
  {
   "cell_type": "markdown",
   "metadata": {},
   "source": [
    "Now, extract the underlying data from the `latitude` and `longitude` NetCDF variables into NumPy variables named `lat` and `lon`. To extract the data from a one-dimensional NetCDF variable `x`, you might write `x[:]`. More dimensions require more colons."
   ]
  },
  {
   "cell_type": "code",
   "execution_count": null,
   "metadata": {
    "collapsed": true
   },
   "outputs": [],
   "source": []
  },
  {
   "cell_type": "markdown",
   "metadata": {},
   "source": [
    "Extract the *first* (index 0) time slice of `sea_ice_concentration` into a Python variable named `sic`. This will give us a 2D sea-ice grid with dimensions matching `lat` and `lon`. "
   ]
  },
  {
   "cell_type": "code",
   "execution_count": null,
   "metadata": {
    "collapsed": true
   },
   "outputs": [],
   "source": []
  },
  {
   "cell_type": "markdown",
   "metadata": {},
   "source": [
    "Use the `plt.imshow()` method, as we did in Module 2, to get a quick look at the `sic` data."
   ]
  },
  {
   "cell_type": "code",
   "execution_count": null,
   "metadata": {
    "collapsed": false
   },
   "outputs": [],
   "source": []
  },
  {
   "cell_type": "markdown",
   "metadata": {},
   "source": [
    "Define a variable `ice` that is a grid of Boolean values where sea-ice concentration is between 0 (exclusive) and 100 (inclusive); that is, a grid showing where there was at least some sea ice. Note that you'll want to use a bitwise-and operator here."
   ]
  },
  {
   "cell_type": "code",
   "execution_count": null,
   "metadata": {
    "collapsed": false
   },
   "outputs": [],
   "source": []
  },
  {
   "cell_type": "markdown",
   "metadata": {},
   "source": [
    "Now define a variable `cols_and_rows` by calling `np.where()` on `ice`. `np.where()` tells us which columns and rows have `True` values in the `ice` grid. Call `type()` on your `cols_and_rows` to see what kind of variable it is."
   ]
  },
  {
   "cell_type": "code",
   "execution_count": null,
   "metadata": {
    "collapsed": false
   },
   "outputs": [],
   "source": []
  },
  {
   "cell_type": "markdown",
   "metadata": {},
   "source": [
    "Python tuples can be referenced just like lists or arrays, with bracket notation. Assign index 0 of `cols_and_rows` to a new variable `cols`, and do likewise for index 1 and `rows`."
   ]
  },
  {
   "cell_type": "code",
   "execution_count": null,
   "metadata": {
    "collapsed": true
   },
   "outputs": [],
   "source": []
  },
  {
   "cell_type": "markdown",
   "metadata": {},
   "source": [
    "Assign to a new variable `m` a `Basemap` object with a North Polar Steographic projection, a bounding latitude of 45 degrees north, and a center longitude of 300 degrees."
   ]
  },
  {
   "cell_type": "code",
   "execution_count": null,
   "metadata": {
    "collapsed": false
   },
   "outputs": [],
   "source": []
  },
  {
   "cell_type": "markdown",
   "metadata": {},
   "source": [
    "Ask `m` to project longitude-latitude values from `lon` and `lat`, respectively, and assign the tuple directly into new variables `x` and `y`. You'll want to use only select values from `lon` and `lat`, i.e. those indicated by the `cols` and `rows` variables, which are limited to locations where there is sea ice. (The syntax here is a little tricky, so you'll probably want to borrow liberally from the Module 3 notebook.)"
   ]
  },
  {
   "cell_type": "code",
   "execution_count": null,
   "metadata": {
    "collapsed": true
   },
   "outputs": [],
   "source": []
  },
  {
   "cell_type": "markdown",
   "metadata": {},
   "source": [
    "Finally, tell `plt` to produce a 10\" by 10\" figure, tell `m` to draw coastlines on the map, and use the `scatter` method to plot points using `x` and `y`, with 1pt points and blue color."
   ]
  },
  {
   "cell_type": "code",
   "execution_count": null,
   "metadata": {
    "collapsed": false
   },
   "outputs": [],
   "source": []
  },
  {
   "cell_type": "markdown",
   "metadata": {},
   "source": [
    "Note that we've plotted those points where _any_ sea ice was detected, which ignores the important **concentration** information in our dataset, i.e. the fact that `sea_ice_concentration` is provided as a percentage. One improvement would be to define several variants of `ice` for \"buckets\" of values, like `ice_01_to_25`, `ice_26_to_50`, etc., and to plot those point sets with different colors. Or, we might better use some other plotting mechanism that allows us to use a gradient color map.\n",
    "\n",
    "What's up with that empty circle at the center of the map?"
   ]
  }
 ],
 "metadata": {
  "anaconda-cloud": {},
  "kernelspec": {
   "display_name": "Python [sea]",
   "language": "python",
   "name": "Python [sea]"
  },
  "language_info": {
   "codemirror_mode": {
    "name": "ipython",
    "version": 3
   },
   "file_extension": ".py",
   "mimetype": "text/x-python",
   "name": "python",
   "nbconvert_exporter": "python",
   "pygments_lexer": "ipython3",
   "version": "3.5.2"
  },
  "name": "module-0.ipynb"
 },
 "nbformat": 4,
 "nbformat_minor": 0
}
