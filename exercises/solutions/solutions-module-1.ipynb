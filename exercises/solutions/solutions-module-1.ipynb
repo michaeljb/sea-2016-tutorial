{
 "cells": [
  {
   "cell_type": "markdown",
   "metadata": {
    "ein.tags": [
     "worksheet-0"
    ]
   },
   "source": [
    "<p style=\"float:right\">\n",
    "<img src=\"../../images/logos/cu.png\" style=\"display:inline\" />\n",
    "<img src=\"../../images/logos/cires.png\" style=\"display:inline\" />\n",
    "<img src=\"../../images/logos/nasa.png\" style=\"display:inline\" />\n",
    "<img src=\"../../images/logos/nsidc_daac.png\" style=\"display:inline\" />\n",
    "</p>\n",
    "\n",
    "# Python, Jupyter & pandas: Solutions for Module 1"
   ]
  },
  {
   "cell_type": "markdown",
   "metadata": {},
   "source": [
    "Let's define two Python list (vector) variables containing some small integers. Just run this cell as-is:"
   ]
  },
  {
   "cell_type": "code",
   "execution_count": null,
   "metadata": {
    "collapsed": false
   },
   "outputs": [],
   "source": [
    "v1 = [0, 1, 2, 3, 4]\n",
    "v2 = [4, 3, 2, 1, 0]"
   ]
  },
  {
   "cell_type": "markdown",
   "metadata": {},
   "source": [
    "Enter the names of these two variables, each in their own cell, to print their contents:"
   ]
  },
  {
   "cell_type": "code",
   "execution_count": null,
   "metadata": {
    "collapsed": false
   },
   "outputs": [],
   "source": [
    "v1"
   ]
  },
  {
   "cell_type": "code",
   "execution_count": null,
   "metadata": {
    "collapsed": false
   },
   "outputs": [],
   "source": [
    "v2"
   ]
  },
  {
   "cell_type": "markdown",
   "metadata": {},
   "source": [
    "Let's say that we'd like a third vector, `v3` whose elements represent the ratio of the corresponding elements of v1 and v2. That is, `v3`'s first element should contain the ratio of `v1`'s first element to `v2`'s first element, and so on. Doing this the obvious way, `v3 = v1 / v2`, won't work, but let's try anyway."
   ]
  },
  {
   "cell_type": "code",
   "execution_count": null,
   "metadata": {
    "collapsed": false
   },
   "outputs": [],
   "source": [
    "v3 = v1 / v2"
   ]
  },
  {
   "cell_type": "markdown",
   "metadata": {},
   "source": [
    "Right, we can't take the ratio of two lists. But we _can_ take the ratio of two NumPy arrays. So import the NumPy library, giving it the customary name `np`:"
   ]
  },
  {
   "cell_type": "code",
   "execution_count": null,
   "metadata": {
    "collapsed": true
   },
   "outputs": [],
   "source": [
    "import numpy as np"
   ]
  },
  {
   "cell_type": "markdown",
   "metadata": {},
   "source": [
    "Now create NumPy arrays `a1` and `a2` using `v1` and `v2` as input, respectively, using `np.array()`:"
   ]
  },
  {
   "cell_type": "code",
   "execution_count": null,
   "metadata": {
    "collapsed": true
   },
   "outputs": [],
   "source": [
    "a1 = np.array(v1)\n",
    "a2 = np.array(v2)"
   ]
  },
  {
   "cell_type": "markdown",
   "metadata": {},
   "source": [
    "And define `a3` as the ratio of `a1`'s elements to `a2`'s elements:"
   ]
  },
  {
   "cell_type": "code",
   "execution_count": null,
   "metadata": {
    "collapsed": false
   },
   "outputs": [],
   "source": [
    "a3 = a1 / a2"
   ]
  },
  {
   "cell_type": "markdown",
   "metadata": {},
   "source": [
    "You probably will have seen a warning when evaluating the previous cell. Print out the value of `a3` now and see what you got:"
   ]
  },
  {
   "cell_type": "code",
   "execution_count": null,
   "metadata": {
    "collapsed": false
   },
   "outputs": [],
   "source": [
    "a3"
   ]
  },
  {
   "cell_type": "markdown",
   "metadata": {},
   "source": [
    "One of `a3`'s values is different, in a potentially bad way, for what is probably an obvious reason. Let's now turn our NumPy array into a pandas series and filter out that bad value.\n",
    "\n",
    "First, import pandas with the conventional name `pd`."
   ]
  },
  {
   "cell_type": "code",
   "execution_count": null,
   "metadata": {
    "collapsed": true
   },
   "outputs": [],
   "source": [
    "import pandas as pd"
   ]
  },
  {
   "cell_type": "markdown",
   "metadata": {},
   "source": [
    "Now create a `Series` called `s3` with `a3` as input, using `pd.Series()`."
   ]
  },
  {
   "cell_type": "code",
   "execution_count": null,
   "metadata": {
    "collapsed": true
   },
   "outputs": [],
   "source": [
    "s3 = pd.Series(a3)"
   ]
  },
  {
   "cell_type": "markdown",
   "metadata": {},
   "source": [
    "Since pandas series are NumPy arrays under the hood, we can use functions provided by `np` on a pandas `Series`. One nice one is [`np.isfinite()`](http://docs.scipy.org/doc/numpy-1.10.0/reference/generated/numpy.isfinite.html), which returns an array of boolean `True` or `False` values depending on whether the corresponding array elements are finite numbers. Try calling this function with `s3` as input."
   ]
  },
  {
   "cell_type": "code",
   "execution_count": null,
   "metadata": {
    "collapsed": false
   },
   "outputs": [],
   "source": [
    "np.isfinite(s3)"
   ]
  },
  {
   "cell_type": "markdown",
   "metadata": {},
   "source": [
    "Recall how we used the syntax `df[df['elapsed'] >= 10]` earlier to filter a pandas `DataFrame`. The bit inside the outermost square brackets is equivalent to an array of boolean values. The whole expression says: \"Show me the elements of `df` where the corresponding boolean value is `True`\". Do something similar with `s3` and `np.isfinite` to show only the finite values of `s3`."
   ]
  },
  {
   "cell_type": "code",
   "execution_count": null,
   "metadata": {
    "collapsed": false
   },
   "outputs": [],
   "source": [
    "s3[np.isfinite(s3)]"
   ]
  },
  {
   "cell_type": "markdown",
   "metadata": {},
   "source": [
    "Create series `s1` and `s2` for `a1` and `a2`, respectively:"
   ]
  },
  {
   "cell_type": "code",
   "execution_count": null,
   "metadata": {
    "collapsed": true
   },
   "outputs": [],
   "source": [
    "s1 = pd.Series(a1)\n",
    "s2 = pd.Series(a2)"
   ]
  },
  {
   "cell_type": "markdown",
   "metadata": {},
   "source": [
    "Now, create a `DataFrame` called `df` using `s1`, `s2` and `s3`, using the [`pd.concat()`](http://pandas.pydata.org/pandas-docs/stable/generated/pandas.concat.html) function. Be sure to use the `axis` argument to get the series in columns. As the first argument to `pd.concat()`, supply a Python dictionary, where the keys are the _strings_ `'s1'` through `'s3'`, and the values are the actual variables `s1` through `s3`. (A Python dictionary takes the form `{'key1': value1, 'key2': value2, ...}`)"
   ]
  },
  {
   "cell_type": "code",
   "execution_count": null,
   "metadata": {
    "collapsed": true
   },
   "outputs": [],
   "source": [
    "df = pd.concat({'s1': s1, 's2': s2, 's3': s3}, axis=1)"
   ]
  },
  {
   "cell_type": "markdown",
   "metadata": {},
   "source": [
    "Display the contents of `df`."
   ]
  },
  {
   "cell_type": "code",
   "execution_count": null,
   "metadata": {
    "collapsed": false
   },
   "outputs": [],
   "source": [
    "df"
   ]
  },
  {
   "cell_type": "markdown",
   "metadata": {},
   "source": [
    "Use `np.isfinite()` again, this time to filter out the row containing the bad `inf` value."
   ]
  },
  {
   "cell_type": "code",
   "execution_count": null,
   "metadata": {
    "collapsed": false
   },
   "outputs": [],
   "source": [
    "df[np.isfinite(df['s3'])]"
   ]
  },
  {
   "cell_type": "markdown",
   "metadata": {},
   "source": [
    "Finally, sort `df` on the `s3` column, with values in ascending order, using `DataFrame`'s [`sort_values()`](http://pandas.pydata.org/pandas-docs/stable/generated/pandas.DataFrame.sort_values.html) method."
   ]
  },
  {
   "cell_type": "code",
   "execution_count": null,
   "metadata": {
    "collapsed": false
   },
   "outputs": [],
   "source": [
    "df.sort_values('s3')"
   ]
  },
  {
   "cell_type": "markdown",
   "metadata": {},
   "source": [
    "List all the Jupyter magics available to you."
   ]
  },
  {
   "cell_type": "code",
   "execution_count": null,
   "metadata": {
    "collapsed": false
   },
   "outputs": [],
   "source": [
    "%lsmagic"
   ]
  },
  {
   "cell_type": "markdown",
   "metadata": {},
   "source": [
    "Use the `%ll` magic to get a long directory listing of your system's root (`/`) directory."
   ]
  },
  {
   "cell_type": "code",
   "execution_count": null,
   "metadata": {
    "collapsed": false
   },
   "outputs": [],
   "source": [
    "%ll /"
   ]
  }
 ],
 "metadata": {
  "kernelspec": {
   "display_name": "Python [sea]",
   "language": "python",
   "name": "Python [sea]"
  },
  "language_info": {
   "codemirror_mode": {
    "name": "ipython",
    "version": 3
   },
   "file_extension": ".py",
   "mimetype": "text/x-python",
   "name": "python",
   "nbconvert_exporter": "python",
   "pygments_lexer": "ipython3",
   "version": "3.5.2"
  },
  "name": "module-0.ipynb"
 },
 "nbformat": 4,
 "nbformat_minor": 0
}
