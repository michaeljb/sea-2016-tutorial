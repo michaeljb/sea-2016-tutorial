{
 "cells": [
  {
   "cell_type": "markdown",
   "metadata": {
    "ein.tags": [
     "worksheet-0"
    ]
   },
   "source": [
    "<p style=\"float:right\">\n",
    "<img src=\"../../images/logos/cu.png\" style=\"display:inline\" />\n",
    "<img src=\"../../images/logos/cires.png\" style=\"display:inline\" />\n",
    "<img src=\"../../images/logos/nasa.png\" style=\"display:inline\" />\n",
    "<img src=\"../../images/logos/nsidc_daac.png\" style=\"display:inline\" />\n",
    "</p>\n",
    "\n",
    "## Python, Jupyter & pandas: Solutions for Modules 4 & 5"
   ]
  },
  {
   "cell_type": "markdown",
   "metadata": {
    "ein.tags": [
     "worksheet-0"
    ]
   },
   "source": [
    "Run the following cell as-is to do some initial setup. Some steps from the setup for Exercise 3 are repeated here, as well as some pieces of Module 4. Since pandas excels at working with timeseries data, rather than gridded data, we are ultimately interested in the total sea ice area for each day in the dataset. Here, we'll save that to a variable called `total_area` before plugging it into pandas."
   ]
  },
  {
   "cell_type": "code",
   "execution_count": null,
   "metadata": {
    "autoscroll": "json-false",
    "collapsed": false,
    "ein.tags": [
     "worksheet-0"
    ]
   },
   "outputs": [],
   "source": [
    "%matplotlib inline\n",
    "from mpl_toolkits.basemap import Basemap\n",
    "import matplotlib.pyplot as plt\n",
    "import netCDF4\n",
    "import numpy as np\n",
    "import pandas as pd\n",
    "\n",
    "data_file = '../../data/september-concentration.nc'\n",
    "dataset = netCDF4.Dataset(data_file)\n",
    "variables = dataset.variables\n",
    "\n",
    "area = variables['area']\n",
    "sic = variables['sea_ice_concentration']\n",
    "\n",
    "# the time variable in the netCDF file is days since some epoch,\n",
    "# let's just work with datetime objects\n",
    "time = netCDF4.num2date(variables['time'][:], variables['time'].units)\n",
    "\n",
    "def seaice_area_km2(grid, area):\n",
    "    # get rid of flagged values and convert 0-100% to 0.0 to 1.0\n",
    "    decimal = (np.ma.masked_outside(grid, 0, 100) / 100)\n",
    "    \n",
    "    return np.sum(area * decimal)\n",
    "\n",
    "days = sic.shape[0]\n",
    "grid_area = area[:]\n",
    "total_area = np.ma.zeros(days)\n",
    "for i in np.arange(days):\n",
    "    total_area[i] = seaice_area_km2(sic[i, :, :], grid_area)"
   ]
  },
  {
   "cell_type": "markdown",
   "metadata": {
    "ein.tags": [
     "worksheet-0"
    ]
   },
   "source": [
    "## Big list to a DataFrame"
   ]
  },
  {
   "cell_type": "markdown",
   "metadata": {
    "ein.tags": [
     "worksheet-0"
    ]
   },
   "source": [
    "`total_area` is a list with values representing the total area of sea ice on a given day. Print out the value of `total_area`."
   ]
  },
  {
   "cell_type": "code",
   "execution_count": null,
   "metadata": {
    "autoscroll": "json-false",
    "collapsed": false,
    "ein.tags": [
     "worksheet-0"
    ]
   },
   "outputs": [],
   "source": [
    "total_area"
   ]
  },
  {
   "cell_type": "markdown",
   "metadata": {
    "ein.tags": [
     "worksheet-0"
    ]
   },
   "source": [
    "Construct a pandas DataFrame using `total_area` as the data, `time` as the index, and `['area']` as the columns. Assign it to the variable `df`."
   ]
  },
  {
   "cell_type": "code",
   "execution_count": null,
   "metadata": {
    "autoscroll": "json-false",
    "collapsed": false,
    "ein.tags": [
     "worksheet-0"
    ]
   },
   "outputs": [],
   "source": [
    "df = pd.DataFrame({'area': total_area}, index=time)"
   ]
  },
  {
   "cell_type": "markdown",
   "metadata": {
    "ein.tags": [
     "worksheet-0"
    ]
   },
   "source": [
    "`DataFrame` has a method `min()` that returns the minimum value in the DataFrame, and a method `idxmin()` that returns the index where that minimum value occurs. What is the lowest sea ice area found in this dataset, and on which date did it occur?"
   ]
  },
  {
   "cell_type": "code",
   "execution_count": null,
   "metadata": {
    "autoscroll": "json-false",
    "collapsed": false,
    "ein.tags": [
     "worksheet-0"
    ]
   },
   "outputs": [],
   "source": [
    "df.min()"
   ]
  },
  {
   "cell_type": "code",
   "execution_count": null,
   "metadata": {
    "autoscroll": "json-false",
    "collapsed": false,
    "ein.tags": [
     "worksheet-0"
    ]
   },
   "outputs": [],
   "source": [
    "df.idxmin()"
   ]
  },
  {
   "cell_type": "markdown",
   "metadata": {
    "ein.tags": [
     "worksheet-0"
    ]
   },
   "source": [
    "## DataFrame with a column for each year"
   ]
  },
  {
   "cell_type": "markdown",
   "metadata": {
    "ein.tags": [
     "worksheet-0"
    ]
   },
   "source": [
    "Since we're interested in plotting multiple years of data, it would be useful to have our data arranged such that each year is in its own column indexed by day of the month.  \n",
    "\n",
    "The first step is to create a `DataFrame` indexed by both year and day. We can access the year and the day in the DateTimeIndex with `df.index.year` and `df.index.day`. \n",
    "\n",
    "Create this DataFrame using set_index to create a `MultiIndex` by year and day and store this reindexed dataframe into a new variable `df2`. \n",
    " \n",
    "*Look in Module 4 for hints on using set_index*"
   ]
  },
  {
   "cell_type": "code",
   "execution_count": null,
   "metadata": {
    "autoscroll": "json-false",
    "collapsed": false,
    "ein.tags": [
     "worksheet-0"
    ]
   },
   "outputs": [],
   "source": [
    "df2 = df.set_index([df.index.year, df.index.day])\n",
    "df2.head()"
   ]
  },
  {
   "cell_type": "markdown",
   "metadata": {
    "ein.tags": [
     "worksheet-0"
    ]
   },
   "source": [
    "The type of new `DataFrame`'s index should be a pandas `MultiIndex`. Verify that it is."
   ]
  },
  {
   "cell_type": "code",
   "execution_count": null,
   "metadata": {
    "autoscroll": "json-false",
    "collapsed": false,
    "ein.tags": [
     "worksheet-0"
    ]
   },
   "outputs": [],
   "source": [
    "type(df2.index)"
   ]
  },
  {
   "cell_type": "markdown",
   "metadata": {
    "ein.tags": [
     "worksheet-0"
    ]
   },
   "source": [
    "pandas `DataFrame`s have a method `unstack()` to pivot values from indexes to columns. Use this on `df2` to create a `DataFrame` with an index of `days` and a column for each `year`. \n",
    "\n",
    "Save this new `DataFrame` to `df3`"
   ]
  },
  {
   "cell_type": "code",
   "execution_count": null,
   "metadata": {
    "autoscroll": "json-false",
    "collapsed": false,
    "ein.tags": [
     "worksheet-0"
    ]
   },
   "outputs": [],
   "source": [
    "df3 = df2.unstack(level=0)\n",
    "df3.head()"
   ]
  },
  {
   "cell_type": "markdown",
   "metadata": {
    "ein.tags": [
     "worksheet-0"
    ]
   },
   "source": [
    "## Plots"
   ]
  },
  {
   "cell_type": "markdown",
   "metadata": {
    "ein.tags": [
     "worksheet-0"
    ]
   },
   "source": [
    "Let's plot the 2002 and 2012 data on the same graph."
   ]
  },
  {
   "cell_type": "markdown",
   "metadata": {
    "ein.tags": [
     "worksheet-0"
    ]
   },
   "source": [
    "Caution: Normally you can select columns from a `DataFrame` with `DataFrame[colname]`. However, after `unstack`ing the index, our columns are a `MultiIndex` and you'll have to account for that.\n",
    "\n",
    "The easiest way to work with this will be to transform the `MultiIndex` columns into a single column index by dropping the useless level (named 'area' if you're following directions)"
   ]
  },
  {
   "cell_type": "markdown",
   "metadata": {
    "ein.tags": [
     "worksheet-0"
    ]
   },
   "source": [
    "This command will drop your column level 0 and give you normally indexed year columns.  If you're feeling bold try the following examples without it.\n",
    "\n",
    "`df3.columns = df3.columns.droplevel(0)`\n"
   ]
  },
  {
   "cell_type": "markdown",
   "metadata": {
    "ein.tags": [
     "worksheet-0"
    ]
   },
   "source": [
    "Tell `plt` to produce a 10\" by 10\" figure, subset `df3` to the years we're interested in, and use `DataFrame.plot()` to render the graph."
   ]
  },
  {
   "cell_type": "code",
   "execution_count": null,
   "metadata": {
    "autoscroll": "json-false",
    "collapsed": false,
    "ein.tags": [
     "worksheet-0"
    ]
   },
   "outputs": [],
   "source": [
    "df3.columns = df3.columns.droplevel(0)"
   ]
  },
  {
   "cell_type": "code",
   "execution_count": null,
   "metadata": {
    "autoscroll": "json-false",
    "collapsed": false,
    "ein.tags": [
     "worksheet-0"
    ]
   },
   "outputs": [],
   "source": [
    "plt.figure(figsize=(10,10))\n",
    "df3[[2002, 2012]].plot()\n"
   ]
  },
  {
   "cell_type": "markdown",
   "metadata": {
    "ein.tags": [
     "worksheet-0"
    ]
   },
   "source": [
    "We can see the more recent year is lower, but comparing values from just 2 years is not terribly informative. Let's plot how the September mean changes over the years.\n",
    "\n",
    "First, compute the mean value of each year and store in a `Series` named `mean`."
   ]
  },
  {
   "cell_type": "code",
   "execution_count": null,
   "metadata": {
    "autoscroll": "json-false",
    "collapsed": false,
    "ein.tags": [
     "worksheet-0"
    ]
   },
   "outputs": [],
   "source": [
    "mean = df3.mean()\n",
    "mean"
   ]
  },
  {
   "cell_type": "markdown",
   "metadata": {
    "ein.tags": [
     "worksheet-0"
    ]
   },
   "source": [
    "Since we've got a simple Series now, we can just call `plot()` on it to get a\n",
    "sense of how the mean sea ice area is changing over time.\n",
    "\n",
    "Do this now:"
   ]
  },
  {
   "cell_type": "code",
   "execution_count": null,
   "metadata": {
    "autoscroll": "json-false",
    "collapsed": false,
    "ein.tags": [
     "worksheet-0"
    ]
   },
   "outputs": [],
   "source": [
    "mean.plot(marker='.')"
   ]
  },
  {
   "cell_type": "code",
   "execution_count": null,
   "metadata": {
    "autoscroll": "json-false",
    "collapsed": false,
    "ein.tags": [
     "worksheet-0"
    ]
   },
   "outputs": [],
   "source": [
    "# Finished with Exercises for Module 4"
   ]
  },
  {
   "cell_type": "code",
   "execution_count": null,
   "metadata": {
    "autoscroll": "json-false",
    "collapsed": false,
    "ein.tags": [
     "worksheet-0"
    ]
   },
   "outputs": [],
   "source": [
    "# Begin exercises for Module 5"
   ]
  },
  {
   "cell_type": "markdown",
   "metadata": {
    "ein.tags": [
     "worksheet-0"
    ]
   },
   "source": [
    "Let's add a trend line to this graph.\n",
    "\n",
    "First, put the `mean` Series into a DataFrame (since it's easy to plot multiple lines when they're just columns in a DataFrame)."
   ]
  },
  {
   "cell_type": "code",
   "execution_count": null,
   "metadata": {
    "autoscroll": "json-false",
    "collapsed": false,
    "ein.tags": [
     "worksheet-0"
    ]
   },
   "outputs": [],
   "source": [
    "df4 = pd.DataFrame(mean, columns=['mean'])\n",
    "df4"
   ]
  },
  {
   "cell_type": "markdown",
   "metadata": {
    "ein.tags": [
     "worksheet-0"
    ]
   },
   "source": [
    "Compute a trendline for this data and add it to your data frame as a new column"
   ]
  },
  {
   "cell_type": "code",
   "execution_count": null,
   "metadata": {
    "autoscroll": "json-false",
    "collapsed": false,
    "ein.tags": [
     "worksheet-0"
    ]
   },
   "outputs": [],
   "source": [
    "slope, intercept = np.polyfit(x=mean.index, y=mean.values, deg=1)\n",
    "best_fit_fn = np.poly1d([slope, intercept])\n",
    "df4['best-fit'] = best_fit_fn(mean.index)"
   ]
  },
  {
   "cell_type": "markdown",
   "metadata": {
    "ein.tags": [
     "worksheet-0"
    ]
   },
   "source": [
    "Plot the September mean sea ice extents along with a trendline. "
   ]
  },
  {
   "cell_type": "code",
   "execution_count": null,
   "metadata": {
    "autoscroll": "json-false",
    "collapsed": false,
    "ein.tags": [
     "worksheet-0"
    ]
   },
   "outputs": [],
   "source": [
    "df4.plot()"
   ]
  }
 ],
 "metadata": {
  "anaconda-cloud": {},
  "kernelspec": {
   "display_name": "Python [python3]",
   "language": "python",
   "name": "Python [python3]"
  },
  "language_info": {
   "codemirror_mode": {
    "name": "ipython",
    "version": 3
   },
   "file_extension": ".py",
   "mimetype": "text/x-python",
   "name": "python",
   "nbconvert_exporter": "python",
   "pygments_lexer": "ipython3",
   "version": "3.5.2"
  },
  "name": "solutions-module-4.ipynb"
 },
 "nbformat": 4,
 "nbformat_minor": 0
}
