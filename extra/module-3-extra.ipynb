{
 "cells": [
  {
   "cell_type": "markdown",
   "metadata": {
    "ein.tags": [
     "worksheet-0"
    ]
   },
   "source": [
    "<p style=\"float:right\">\n",
    "<img src=\"../images/logos/cu.png\" style=\"display:inline\" />\n",
    "<img src=\"../images/logos/cires.png\" style=\"display:inline\" />\n",
    "<img src=\"../images/logos/nasa.png\" style=\"display:inline\" />\n",
    "<img src=\"../images/logos/nsidc_daac.png\" style=\"display:inline\" />\n",
    "</p>\n",
    "\n",
    "# Python, Jupyter & pandas: Module 3 Extra"
   ]
  },
  {
   "cell_type": "markdown",
   "metadata": {},
   "source": [
    "## A better visualization\n",
    "\n",
    "Instead of the colored dots we used to visualize snow and ice cover in Module 3, let's try something a little more sophisticated."
   ]
  },
  {
   "cell_type": "code",
   "execution_count": null,
   "metadata": {
    "collapsed": true
   },
   "outputs": [],
   "source": [
    "%matplotlib inline\n",
    "from mpl_toolkits.basemap import Basemap\n",
    "import matplotlib.pyplot as plt\n",
    "import netCDF4\n",
    "import numpy as np"
   ]
  },
  {
   "cell_type": "markdown",
   "metadata": {
    "ein.tags": [
     "worksheet-0"
    ]
   },
   "source": [
    "Let's pull our Iceland data again:"
   ]
  },
  {
   "cell_type": "code",
   "execution_count": null,
   "metadata": {
    "autoscroll": "json-false",
    "collapsed": false,
    "ein.tags": [
     "worksheet-0"
    ]
   },
   "outputs": [],
   "source": [
    "iceland_url = ('http://n5eil01u.ecs.nsidc.org/opendap/hyrax/MEASURES/NSIDC-0530.001/2012.01.01/'\n",
    "               'nhtsd25e2_20120101_v01r01.nc?'\n",
    "               'latitude[453:1:476][310:1:338],'\n",
    "               'longitude[453:1:476][310:1:338],'\n",
    "               'merged_snow_cover_extent[0:1:0][453:1:476][310:1:338]'\n",
    ")\n",
    "iceland_dataset = netCDF4.Dataset(iceland_url)\n",
    "iceland_latitude = np.array(iceland_dataset.variables['latitude'])\n",
    "iceland_longitude = np.array(iceland_dataset.variables['longitude'])\n",
    "iceland_msce = np.array(iceland_dataset.variables['merged_snow_cover_extent'])[0, :, :]"
   ]
  },
  {
   "cell_type": "markdown",
   "metadata": {
    "ein.tags": [
     "worksheet-0"
    ]
   },
   "source": [
    "Let's see if we can plot a more visually compact grid of the data values. We start with an array full of zeros with the same shape as our `iceland_msce` variable, courtesy of NumPy's [zeros_like](http://docs.scipy.org/doc/numpy-1.10.1/reference/generated/numpy.zeros_like.html) function, then fill in snowy or icy locations with values of our choosing:"
   ]
  },
  {
   "cell_type": "code",
   "execution_count": null,
   "metadata": {
    "autoscroll": "json-false",
    "collapsed": false,
    "ein.tags": [
     "worksheet-0"
    ]
   },
   "outputs": [],
   "source": [
    "ice_image = np.zeros_like(iceland_msce)\n",
    "ice_value = 100\n",
    "snow_value = 50\n",
    "ice_image[iceland_msce <= 17] = snow_value\n",
    "ice_image[iceland_msce == 30] = ice_value"
   ]
  },
  {
   "cell_type": "markdown",
   "metadata": {},
   "source": [
    "A rough plot of our ice / snow grid:"
   ]
  },
  {
   "cell_type": "code",
   "execution_count": null,
   "metadata": {
    "autoscroll": "json-false",
    "collapsed": false,
    "ein.tags": [
     "worksheet-0"
    ]
   },
   "outputs": [],
   "source": [
    "plt.imshow(ice_image, cmap='Blues', interpolation='nearest')"
   ]
  },
  {
   "cell_type": "markdown",
   "metadata": {
    "ein.tags": [
     "worksheet-0"
    ]
   },
   "source": [
    "Now overlay these data on the map with Basemap.pcolor:"
   ]
  },
  {
   "cell_type": "code",
   "execution_count": null,
   "metadata": {
    "autoscroll": "json-false",
    "collapsed": false,
    "ein.tags": [
     "worksheet-0"
    ]
   },
   "outputs": [],
   "source": [
    "plt.figure(figsize=(10, 10))\n",
    "m = Basemap(projection='merc', llcrnrlon=-25, llcrnrlat=63, urcrnrlon=-13, urcrnrlat=67, resolution='i')\n",
    "m.drawcoastlines()\n",
    "m.pcolor(iceland_longitude, iceland_latitude, ice_image, latlon=True, cmap='Blues', alpha=1)\n",
    "plt.draw()"
   ]
  },
  {
   "cell_type": "markdown",
   "metadata": {},
   "source": [
    "And overlay our grid on some physical imagery:"
   ]
  },
  {
   "cell_type": "code",
   "execution_count": null,
   "metadata": {
    "autoscroll": "json-false",
    "collapsed": false,
    "ein.tags": [
     "worksheet-0"
    ]
   },
   "outputs": [],
   "source": [
    "plt.figure(figsize=(10, 10))\n",
    "m = Basemap(projection='merc', llcrnrlon=-25, llcrnrlat=63, urcrnrlon=-13, urcrnrlat=67, resolution='i')\n",
    "m.pcolor(iceland_longitude, iceland_latitude, ice_image, latlon=True, cmap='Blues', alpha=.5)\n",
    "m.bluemarble()\n",
    "plt.draw()"
   ]
  }
 ],
 "metadata": {
  "kernelspec": {
   "display_name": "Python",
   "language": "python",
   "name": "Python"
  },
  "language_info": {
   "codemirror_mode": {
    "name": "ipython",
    "version": 3
   },
   "file_extension": ".py",
   "mimetype": "text/x-python",
   "name": "python",
   "nbconvert_exporter": "python",
   "pygments_lexer": "ipython3",
   "version": "3.5.2"
  },
  "name": "module-3.ipynb"
 },
 "nbformat": 4,
 "nbformat_minor": 0
}
