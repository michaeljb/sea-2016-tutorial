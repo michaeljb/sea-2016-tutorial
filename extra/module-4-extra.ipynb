{
 "cells": [
  {
   "cell_type": "markdown",
   "metadata": {
    "ein.tags": [
     "worksheet-0"
    ]
   },
   "source": [
    "<p style=\"float:right\">\n",
    "<img src=\"../images/logos/cu.png\" style=\"display:inline\" />\n",
    "<img src=\"../images/logos/cires.png\" style=\"display:inline\" />\n",
    "<img src=\"../images/logos/nasa.png\" style=\"display:inline\" />\n",
    "<img src=\"../images/logos/nsidc_daac.png\" style=\"display:inline\" />\n",
    "</p>\n",
    "\n",
    "# Python, Jupyter & pandas: Module 4 Extra"
   ]
  },
  {
   "cell_type": "markdown",
   "metadata": {},
   "source": [
    "## Snow-cover grid plot with extra geo information\n",
    "\n",
    "Let's use the [Basemap](http://matplotlib.org/basemap/api/basemap_api.html?highlight=basemap#module-mpl_toolkits.basemap) package from [matplotlib](http://matplotlib.org/) to add some grid and coast lines:"
   ]
  },
  {
   "cell_type": "code",
   "execution_count": null,
   "metadata": {
    "collapsed": true
   },
   "outputs": [],
   "source": [
    "%matplotlib inline\n",
    "import numpy as np\n",
    "import matplotlib as mpl\n",
    "import matplotlib.pyplot as plt\n",
    "from mpl_toolkits.basemap import Basemap\n",
    "import netCDF4"
   ]
  },
  {
   "cell_type": "code",
   "execution_count": null,
   "metadata": {
    "collapsed": false
   },
   "outputs": [],
   "source": [
    "%%bash\n",
    "rm -f nhsce_v01r01_19661004_20160201.nc\n",
    "unzip $PWD/../data/nhsce_v01r01_19661004_20160201.nc.zip"
   ]
  },
  {
   "cell_type": "code",
   "execution_count": null,
   "metadata": {
    "collapsed": false
   },
   "outputs": [],
   "source": [
    "ds = netCDF4.Dataset('nhsce_v01r01_19661004_20160201.nc')\n",
    "latitude = ds.variables['latitude']\n",
    "longitude = ds.variables['longitude']\n",
    "land = ds.variables['land']\n",
    "\n",
    "plt.figure(figsize=(10, 10))\n",
    "\n",
    "m = Basemap(projection='npstere', boundinglat=30, lon_0=275)\n",
    "m.drawcoastlines()\n",
    "\n",
    "parallels = np.arange(0, 90, 20)\n",
    "m.drawparallels(parallels, labels=[True])\n",
    "\n",
    "meridians = np.arange(-180, 180, 45)\n",
    "m.drawmeridians(meridians, labels=[True, True, True, True, True])\n",
    "\n",
    "m.pcolor(longitude[:], latitude[:], land[:], latlon=True, cmap='Accent')"
   ]
  }
 ],
 "metadata": {
  "anaconda-cloud": {},
  "kernelspec": {
   "display_name": "Python [python3]",
   "language": "python",
   "name": "Python [python3]"
  },
  "language_info": {
   "codemirror_mode": {
    "name": "ipython",
    "version": 3
   },
   "file_extension": ".py",
   "mimetype": "text/x-python",
   "name": "python",
   "nbconvert_exporter": "python",
   "pygments_lexer": "ipython3",
   "version": "3.5.2"
  },
  "name": "module-3.ipynb"
 },
 "nbformat": 4,
 "nbformat_minor": 0
}
