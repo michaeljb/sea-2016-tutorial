{
 "cells": [
  {
   "cell_type": "markdown",
   "metadata": {
    "collapsed": true
   },
   "source": [
    "<p style=\"float:right\">\n",
    "<img src=\"images/logos/cu.png\" style=\"display:inline\" />\n",
    "<img src=\"images/logos/cires.png\" style=\"display:inline\" />\n",
    "<img src=\"images/logos/nasa.png\" style=\"display:inline\" />\n",
    "<img src=\"images/logos/nsidc_daac.png\" style=\"display:inline\" />\n",
    "</p>\n",
    "\n",
    "# Python, Jupyter & pandas: Module 1"
   ]
  },
  {
   "cell_type": "markdown",
   "metadata": {},
   "source": [
    "## Introduction and background"
   ]
  },
  {
   "cell_type": "markdown",
   "metadata": {},
   "source": [
    "### Jupyter\n",
    "\n",
    "- Jupyter evolved from the IPython project\n",
    "    - Extends IPython to support \"over 40\" programming languages -- not just Python\n",
    "    - Notebooks provide an interactive Python sessions with facilities for code editing, text display and data visualization\n",
    "      - Similar to Mathematica (or Matlab's Live Editor) notebooks\n",
    "      - Web browser interface (or console, emacs integration, etc.)\n",
    "- Browser environment\n",
    "    - Home tab\n",
    "        - _Files_\n",
    "        - _Running_\n",
    "        - _Clusters_\n",
    "    - Notebook tab\n",
    "        - Cells\n",
    "            - **Shift + Return to run a cell, or use \"play\" button in toolbar.**\n",
    "            - _Cell_ menu: Run all, all above, etc.\n",
    "              - Note that evaluation will stop on any errros!\n",
    "            - Cut/copy/paste/move cells\n",
    "            - When to create new cells\n",
    "            - Clearing output: _Cell_ > _Current Outputs_ > _Clear_ vs _Cell_ > _All Output_\n",
    "            - Restarting kernel\n",
    "              - Can also shut down kernels from the _Running_ menu on the home tab.\n",
    "            - Keyboard shortcuts\n",
    "        - Text formatting with Markdown\n",
    "            - You're looking at it!\n",
    "            - Double-click a rendered Markdown cell to see the source\n",
    "        - LaTeX support\n",
    "            - Use in Markdown cells, e.g.:\n",
    "$$e^x=\\sum_{i=0}^\\infty \\frac{1}{i!}x^i$$"
   ]
  },
  {
   "cell_type": "markdown",
   "metadata": {},
   "source": [
    "#### Magics\n",
    "\n",
    "The `lsmagic` magic shows all the line and cell magics available:"
   ]
  },
  {
   "cell_type": "code",
   "execution_count": null,
   "metadata": {
    "collapsed": false
   },
   "outputs": [],
   "source": [
    "%lsmagic"
   ]
  },
  {
   "cell_type": "markdown",
   "metadata": {},
   "source": [
    "The `ls` magic, for example, shows the contents of the current directory, just like the shell's `ls` command."
   ]
  },
  {
   "cell_type": "code",
   "execution_count": null,
   "metadata": {
    "collapsed": false
   },
   "outputs": [],
   "source": [
    "%ls"
   ]
  },
  {
   "cell_type": "markdown",
   "metadata": {},
   "source": [
    "The `timeit` line magic executes its argument (a Python statement) three times, and provides the best of the three execution times. (Notice the asterisk in `In [*]` when a cell is busy running. It does not make sense to run another cell whose output depends on a busy cell.)"
   ]
  },
  {
   "cell_type": "code",
   "execution_count": null,
   "metadata": {
    "collapsed": false
   },
   "outputs": [],
   "source": [
    "import time\n",
    "%timeit time.sleep(1)"
   ]
  },
  {
   "cell_type": "markdown",
   "metadata": {},
   "source": [
    "The `time` cell magic executes all the Python statements in the cell once and reports the execution time for the entire cell."
   ]
  },
  {
   "cell_type": "code",
   "execution_count": null,
   "metadata": {
    "collapsed": false
   },
   "outputs": [],
   "source": [
    "%%time\n",
    "time.sleep(1)\n",
    "time.sleep(2)"
   ]
  },
  {
   "cell_type": "markdown",
   "metadata": {},
   "source": [
    "There are cell magics to execute cells in several non-Python languages -- for example, in Ruby..."
   ]
  },
  {
   "cell_type": "code",
   "execution_count": null,
   "metadata": {
    "collapsed": false
   },
   "outputs": [],
   "source": [
    "%%ruby\n",
    "3.times { puts 'hello' }"
   ]
  },
  {
   "cell_type": "markdown",
   "metadata": {},
   "source": [
    "...or in bash"
   ]
  },
  {
   "cell_type": "code",
   "execution_count": null,
   "metadata": {
    "collapsed": false
   },
   "outputs": [],
   "source": [
    "%%bash\n",
    "whoami"
   ]
  },
  {
   "cell_type": "markdown",
   "metadata": {},
   "source": [
    "### Python\n",
    "\n",
    "- First released in 1991 and actively developed since then\n",
    "- Extremely successful and popular, obviously\n",
    "- But, as an interpreted language, relatively slow vs e.g. C or Fortran\n",
    "- Also, Python's `List` object (similar to a vector) can be awkward in numerical contexts:"
   ]
  },
  {
   "cell_type": "code",
   "execution_count": null,
   "metadata": {
    "collapsed": false
   },
   "outputs": [],
   "source": [
    "v = [1.0, 2.0, 3.0, 4.0]\n",
    "v * 3"
   ]
  },
  {
   "cell_type": "markdown",
   "metadata": {},
   "source": [
    "### NumPy\n",
    "\n",
    "- Python's applicability to problems in science was bolstered by NumPy\n",
    "    - Released in 2006\n",
    "    - Technically part of the larger SciPy ecosystem, but can be installed independently"
   ]
  },
  {
   "cell_type": "code",
   "execution_count": null,
   "metadata": {
    "collapsed": true
   },
   "outputs": [],
   "source": [
    "import numpy as np"
   ]
  },
  {
   "cell_type": "markdown",
   "metadata": {},
   "source": [
    "- NumPy provides support for large, multidimensional arrays / matrices with natural semantics...\n",
    "\n",
    "_**Note:** In Python, calling `print()` on an object gets its string value; Jupyter (like the Pyhton REPL) will automatically print the string version of whatever expression occurs on the last line of a cell. But this **only** works on the last line of a cell; elsewhere, we must use `print`._"
   ]
  },
  {
   "cell_type": "code",
   "execution_count": null,
   "metadata": {
    "collapsed": false
   },
   "outputs": [],
   "source": [
    "a = np.array([1.0, 2.0, 3.0, 4.0])\n",
    "a * 3"
   ]
  },
  {
   "cell_type": "markdown",
   "metadata": {},
   "source": [
    "... and functions useful for working with such objects..."
   ]
  },
  {
   "cell_type": "code",
   "execution_count": null,
   "metadata": {
    "collapsed": false
   },
   "outputs": [],
   "source": [
    "reshaped = a.reshape(2, 2)\n",
    "reshaped"
   ]
  },
  {
   "cell_type": "markdown",
   "metadata": {},
   "source": [
    "...and taking slices:"
   ]
  },
  {
   "cell_type": "code",
   "execution_count": null,
   "metadata": {
    "collapsed": false
   },
   "outputs": [],
   "source": [
    "a[1:3] # lower bound is inclusive, upper is exclusive"
   ]
  },
  {
   "cell_type": "markdown",
   "metadata": {},
   "source": [
    "We can use Python's `type()` function to look at the type of any object:"
   ]
  },
  {
   "cell_type": "code",
   "execution_count": null,
   "metadata": {
    "collapsed": false
   },
   "outputs": [],
   "source": [
    "type(a)"
   ]
  },
  {
   "cell_type": "markdown",
   "metadata": {},
   "source": [
    "- `ndarray` has [lots of powerful functions](http://docs.scipy.org/doc/numpy-1.10.0/reference/generated/numpy.ndarray.html) and NumPy as a whole provides a [wide range of numerical routines](https://docs.scipy.org/doc/numpy/reference/routines.html) in areas such as linear algebra, finance, logic, trigonometry, etc. built to work on NumPy data structures."
   ]
  },
  {
   "cell_type": "markdown",
   "metadata": {},
   "source": [
    "- In addition to functionality, NumPy provides better performance by\n",
    "    - Expressing `ndarray` as a type-homogenous, densely-packed memory representation vs `List`'s dynamic arrays\n",
    "    - Implementing underlying routines in C or Fortran, with convenient Python wrappers\n",
    "    - Reusing well-tuned libraries like BLAS for linear algebra"
   ]
  },
  {
   "cell_type": "markdown",
   "metadata": {},
   "source": [
    "### pandas\n",
    "\n",
    "- Pandas builds on NumPy and adds higher-level data-manipulation capabilities."
   ]
  },
  {
   "cell_type": "code",
   "execution_count": null,
   "metadata": {
    "collapsed": false
   },
   "outputs": [],
   "source": [
    "import pandas as pd"
   ]
  },
  {
   "cell_type": "markdown",
   "metadata": {
    "collapsed": true
   },
   "source": [
    "As `ndarray` is NumPy's essential data structure, [`Series`](http://pandas.pydata.org/pandas-docs/stable/api.html#series) and [`DataFrame`](http://pandas.pydata.org/pandas-docs/stable/api.html#dataframe) are pandas'."
   ]
  },
  {
   "cell_type": "markdown",
   "metadata": {},
   "source": [
    "`Series`: _\"One-dimensional ndarray with axis labels (including time series).\"_"
   ]
  },
  {
   "cell_type": "code",
   "execution_count": null,
   "metadata": {
    "collapsed": false
   },
   "outputs": [],
   "source": [
    "series_a = pd.Series([11, 10.5, 13.2, 12, 10, 9.3, 10.1], name='elapsed')\n",
    "print(series_a)\n",
    "series_b = pd.Series([115, 100, 125, np.nan, 103, 83, 102], name='counts')\n",
    "print(series_b)"
   ]
  },
  {
   "cell_type": "markdown",
   "metadata": {},
   "source": [
    "Series often ultimately represent columns (or rows) in a data frame, and have indices (the position of the element in the series, by default) that are used when concatenating multiple series into a data frame."
   ]
  },
  {
   "cell_type": "markdown",
   "metadata": {},
   "source": [
    "`DataFrame`: _\"Two-dimensional size-mutable, potentially heterogeneous tabular data structure with labeled axes (rows and columns).\"_"
   ]
  },
  {
   "cell_type": "code",
   "execution_count": null,
   "metadata": {
    "collapsed": false,
    "scrolled": true
   },
   "outputs": [],
   "source": [
    "df = pd.concat([series_a, series_b], axis=1)\n",
    "df"
   ]
  },
  {
   "cell_type": "markdown",
   "metadata": {},
   "source": [
    "We can filter our data by selecting only rows that match some criteria:"
   ]
  },
  {
   "cell_type": "code",
   "execution_count": null,
   "metadata": {
    "collapsed": false
   },
   "outputs": [],
   "source": [
    "df[df['elapsed'] >= 10]"
   ]
  },
  {
   "cell_type": "markdown",
   "metadata": {},
   "source": [
    "Or remove bad (`NaN` = \"Not a Number\") data:"
   ]
  },
  {
   "cell_type": "code",
   "execution_count": null,
   "metadata": {
    "collapsed": false
   },
   "outputs": [],
   "source": [
    "df.dropna()"
   ]
  },
  {
   "cell_type": "markdown",
   "metadata": {},
   "source": [
    "pandas has lots of support for dates and periods.  Here's a simple example of creating a date range."
   ]
  },
  {
   "cell_type": "code",
   "execution_count": null,
   "metadata": {
    "collapsed": false
   },
   "outputs": [],
   "source": [
    "dates = pd.date_range(start='1999-01-01', periods=15, freq='D' )\n",
    "dates"
   ]
  },
  {
   "cell_type": "markdown",
   "metadata": {},
   "source": [
    "A great beginniner tutorial for pandas is [10 minutes to pandas](http://pandas.pydata.org/pandas-docs/stable/10min.html)."
   ]
  },
  {
   "cell_type": "markdown",
   "metadata": {},
   "source": [
    "In Module 2, we'll obtain data over the internet from an OpenDAP server and do some basic data inspection."
   ]
  }
 ],
 "metadata": {
  "anaconda-cloud": {},
  "kernelspec": {
   "display_name": "Python [binder]",
   "language": "python",
   "name": "Python [binder]"
  },
  "language_info": {
   "codemirror_mode": {
    "name": "ipython",
    "version": 3
   },
   "file_extension": ".py",
   "mimetype": "text/x-python",
   "name": "python",
   "nbconvert_exporter": "python",
   "pygments_lexer": "ipython3",
   "version": "3.5.2"
  }
 },
 "nbformat": 4,
 "nbformat_minor": 0
}
