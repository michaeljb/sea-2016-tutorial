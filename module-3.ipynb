{
 "cells": [
  {
   "cell_type": "markdown",
   "metadata": {
    "ein.tags": [
     "worksheet-0"
    ]
   },
   "source": [
    "<p style=\"float:right\">\n",
    "<img src=\"images/logos/cu.png\" style=\"display:inline\" />\n",
    "<img src=\"images/logos/cires.png\" style=\"display:inline\" />\n",
    "<img src=\"images/logos/nasa.png\" style=\"display:inline\" />\n",
    "<img src=\"images/logos/nsidc_daac.png\" style=\"display:inline\" />\n",
    "</p>\n",
    "\n",
    "# Python, Jupyter & pandas: Module 3"
   ]
  },
  {
   "cell_type": "markdown",
   "metadata": {},
   "source": [
    "## Viewing geolocated data"
   ]
  },
  {
   "cell_type": "markdown",
   "metadata": {},
   "source": [
    "In Module 2, we retrieved NSIDC snow cover data in the northern hemisphere from an OPeNDAP server. Let's pull that data again for use in this notebook:"
   ]
  },
  {
   "cell_type": "code",
   "execution_count": null,
   "metadata": {
    "autoscroll": "json-false",
    "collapsed": false,
    "ein.tags": [
     "worksheet-0"
    ]
   },
   "outputs": [],
   "source": [
    "import netCDF4\n",
    "import numpy as np\n",
    "\n",
    "url_min = ('http://n5eil01u.ecs.nsidc.org/opendap/hyrax/MEASURES/NSIDC-0530.001/2012.01.01/'\n",
    "           'nhtsd25e2_20120101_v01r01.nc?'\n",
    "           'latitude[0:1:719][0:1:719],'\n",
    "           'longitude[0:1:719][0:1:719],'\n",
    "           'merged_snow_cover_extent[0:1:0][0:1:719][0:1:719]'\n",
    ")\n",
    "\n",
    "dataset_min = netCDF4.Dataset(url_min)\n",
    "\n",
    "latitude_min = dataset_min.variables['latitude'][:, :]\n",
    "longitude_min = dataset_min.variables['longitude'][:, :]\n",
    "msce_min = dataset_min.variables['merged_snow_cover_extent'][0, :, :]"
   ]
  },
  {
   "cell_type": "markdown",
   "metadata": {
    "ein.tags": [
     "worksheet-0"
    ]
   },
   "source": [
    "And now let's pull in some graphics support now and get ready to plot our snow cover data."
   ]
  },
  {
   "cell_type": "code",
   "execution_count": null,
   "metadata": {
    "autoscroll": "json-false",
    "collapsed": false,
    "ein.tags": [
     "worksheet-0"
    ]
   },
   "outputs": [],
   "source": [
    "%matplotlib inline\n",
    "from mpl_toolkits.basemap import Basemap\n",
    "import matplotlib.pyplot as plt"
   ]
  },
  {
   "cell_type": "markdown",
   "metadata": {
    "ein.tags": [
     "worksheet-0"
    ]
   },
   "source": [
    "It will be helpful to have an underlying map image to better interpret our data, so let's be sure we can at least do that with `matplotlib`'s [`Basemap`](http://matplotlib.org/basemap/api/basemap_api.html?highlight=basemap#module-mpl_toolkits.basemap):"
   ]
  },
  {
   "cell_type": "code",
   "execution_count": null,
   "metadata": {
    "autoscroll": "json-false",
    "collapsed": false,
    "ein.tags": [
     "worksheet-0"
    ]
   },
   "outputs": [],
   "source": [
    "plt.figure(figsize=(10, 10))\n",
    "m_blank = Basemap(projection='npstere', boundinglat=45, lon_0=300)\n",
    "m_blank.drawcoastlines()"
   ]
  },
  {
   "cell_type": "markdown",
   "metadata": {
    "ein.tags": [
     "worksheet-0"
    ]
   },
   "source": [
    "We can ask for more interesting background imagery (we won't, in general, in this tutorial, in order to focus on the data instead of the map):"
   ]
  },
  {
   "cell_type": "code",
   "execution_count": null,
   "metadata": {
    "autoscroll": "json-false",
    "collapsed": false,
    "ein.tags": [
     "worksheet-0"
    ]
   },
   "outputs": [],
   "source": [
    "plt.figure(figsize=(10, 10))\n",
    "m_imagery = Basemap(projection='npstere', boundinglat=45, lon_0=300)\n",
    "m_imagery.drawcoastlines()\n",
    "m_imagery.etopo()"
   ]
  },
  {
   "cell_type": "markdown",
   "metadata": {
    "ein.tags": [
     "worksheet-0"
    ]
   },
   "source": [
    "Let's take a quick look back at the metadata for our Merged Snow Cover Extent variable:"
   ]
  },
  {
   "cell_type": "code",
   "execution_count": null,
   "metadata": {
    "autoscroll": "json-false",
    "collapsed": false,
    "ein.tags": [
     "worksheet-0"
    ]
   },
   "outputs": [],
   "source": [
    "dataset_min.variables['merged_snow_cover_extent']"
   ]
  },
  {
   "cell_type": "markdown",
   "metadata": {
    "ein.tags": [
     "worksheet-0"
    ]
   },
   "source": [
    "So, the snow cover variable is categorical (discrete), and consists of integers whose values represent snow cover from different sources, snow-free land, permanent ice-covered land, ocean, or a fill value."
   ]
  },
  {
   "cell_type": "markdown",
   "metadata": {},
   "source": [
    "As a reality check, let's find the would-be ocean points and plot them on our map.\n",
    "\n",
    "In the following cell, we pass longitude and latitude values into our `Basemap` object `m`, which [translates them to `x` and `y` Cartesian coordinates appropriate to our map](http://matplotlib.org/basemap/users/mapcoords.html). Translating from a sphere (more or less) onto a flat map inevitably introduces some distortion, and each _projection_ (here we use a North Polar Stereographic projection) has its pros and cons.\n",
    "\n",
    "Note that `x`, `y`, `longitude_min` and `latitude_min` are all arrays. Basemap can operate on arrays as readily as it can on single values."
   ]
  },
  {
   "cell_type": "code",
   "execution_count": null,
   "metadata": {
    "autoscroll": "json-false",
    "collapsed": false,
    "ein.tags": [
     "worksheet-0"
    ]
   },
   "outputs": [],
   "source": [
    "plt.figure(figsize=(10, 10))\n",
    "m0 = Basemap(projection='npstere', boundinglat=45, lon_0=300)\n",
    "m0.drawcoastlines()\n",
    "\n",
    "row0, col0 = np.where(msce_min == 40)\n",
    "x0, y0 = m0(longitude_min[row0, col0], latitude_min[row0, col0])\n",
    "m0.scatter(x0, y0, s=1, color='SeaGreen')"
   ]
  },
  {
   "cell_type": "markdown",
   "metadata": {
    "ein.tags": [
     "worksheet-0"
    ]
   },
   "source": [
    "Seems legit.\n",
    "\n",
    "Now, where's the snow? Values 10 through 16 in the merged snow cover variable all indicate snow, so we'll accept anything in that range:"
   ]
  },
  {
   "cell_type": "code",
   "execution_count": null,
   "metadata": {
    "autoscroll": "json-false",
    "collapsed": false,
    "ein.tags": [
     "worksheet-0"
    ]
   },
   "outputs": [],
   "source": [
    "plt.figure(figsize=(10, 10))\n",
    "m1 = Basemap(projection='npstere', boundinglat=45, lon_0=300)\n",
    "m1.drawcoastlines()\n",
    "\n",
    "row1, col1 = np.where((msce_min >= 10) & (msce_min <= 16))\n",
    "x1, y1 = m1(longitude_min[row1, col1], latitude_min[row1, col1])\n",
    "m1.scatter(x1, y1, s=1, color='Cyan')"
   ]
  },
  {
   "cell_type": "markdown",
   "metadata": {
    "ein.tags": [
     "worksheet-0"
    ]
   },
   "source": [
    "How about snow **or** permanent ice covered land?"
   ]
  },
  {
   "cell_type": "code",
   "execution_count": null,
   "metadata": {
    "autoscroll": "json-false",
    "collapsed": false,
    "ein.tags": [
     "worksheet-0"
    ]
   },
   "outputs": [],
   "source": [
    "plt.figure(figsize=(10, 10))\n",
    "m2 = Basemap(projection='npstere', boundinglat=45, lon_0=300)\n",
    "m2.drawcoastlines()\n",
    "\n",
    "snow2 = (msce_min >= 10) & (msce_min <= 16)\n",
    "ice2 = (msce_min == 30)\n",
    "\n",
    "row_snow2, col_snow2 = np.where(snow2)\n",
    "row_ice2, col_ice2 = np.where(ice2)\n",
    "\n",
    "x_snow2, y_snow2 = m2(longitude_min[row_snow2, col_snow2], latitude_min[row_snow2, col_snow2])\n",
    "x_ice2, y_ice2 = m2(longitude_min[row_ice2, col_ice2], latitude_min[row_ice2, col_ice2])\n",
    "\n",
    "m2.scatter(x_ice2, y_ice2, s=1, color='Blue')\n",
    "m2.scatter(x_snow2, y_snow2, s=1, color='Cyan')"
   ]
  },
  {
   "cell_type": "markdown",
   "metadata": {
    "ein.tags": [
     "worksheet-0"
    ]
   },
   "source": [
    "At the end of Module 2, we tried to use OPeNDAP to retrieve data only in the area of Iceland. Let's execute that query again:"
   ]
  },
  {
   "cell_type": "code",
   "execution_count": null,
   "metadata": {
    "autoscroll": "json-false",
    "collapsed": false,
    "ein.tags": [
     "worksheet-0"
    ]
   },
   "outputs": [],
   "source": [
    "iceland_url = ('http://n5eil01u.ecs.nsidc.org/opendap/hyrax/MEASURES/NSIDC-0530.001/2012.01.01/'\n",
    "               'nhtsd25e2_20120101_v01r01.nc?'\n",
    "               'latitude[453:1:476][310:1:338],'\n",
    "               'longitude[453:1:476][310:1:338],'\n",
    "               'merged_snow_cover_extent[0:1:0][453:1:476][310:1:338]'\n",
    ")\n",
    "\n",
    "iceland_dataset = netCDF4.Dataset(iceland_url)\n",
    "\n",
    "iceland_latitude = iceland_dataset.variables['latitude'][:, :]\n",
    "iceland_longitude = iceland_dataset.variables['longitude'][:, :]\n",
    "iceland_msce = iceland_dataset.variables['merged_snow_cover_extent'][0, :, :]"
   ]
  },
  {
   "cell_type": "markdown",
   "metadata": {
    "ein.tags": [
     "worksheet-0"
    ]
   },
   "source": [
    "And now let's plot it on a map and see if the result makes sense:"
   ]
  },
  {
   "cell_type": "code",
   "execution_count": null,
   "metadata": {
    "autoscroll": "json-false",
    "collapsed": false,
    "ein.tags": [
     "worksheet-0"
    ]
   },
   "outputs": [],
   "source": [
    "plt.figure(figsize=(10, 10))\n",
    "m3 = Basemap(projection='npstere', boundinglat=45, lon_0=300)\n",
    "m3.drawcoastlines()\n",
    "\n",
    "snow3 = (iceland_msce >= 10) & (iceland_msce <= 16)\n",
    "ice3 = (iceland_msce == 30)\n",
    "\n",
    "row_snow3, col_snow3 = np.where(snow3)\n",
    "row_ice3, col_ice3 = np.where(ice3)\n",
    "\n",
    "x_snow3, y_snow3 = m3(iceland_longitude[row_snow3, col_snow3], iceland_latitude[row_snow3, col_snow3])\n",
    "x_ice3, y_ice3 = m3(iceland_longitude[row_ice3, col_ice3], iceland_latitude[row_ice3, col_ice3])\n",
    "\n",
    "m3.scatter(x_snow3, y_snow3, s=1, color='Cyan')\n",
    "m3.scatter(x_ice3, y_ice3, s=1, color='Blue')"
   ]
  },
  {
   "cell_type": "markdown",
   "metadata": {
    "ein.tags": [
     "worksheet-0"
    ]
   },
   "source": [
    "Looks about right, but let's get a closer look. Can we plot a map of just Iceland?"
   ]
  },
  {
   "cell_type": "code",
   "execution_count": null,
   "metadata": {
    "autoscroll": "json-false",
    "collapsed": false,
    "ein.tags": [
     "worksheet-0"
    ]
   },
   "outputs": [],
   "source": [
    "plt.figure(figsize=(10, 10))\n",
    "m4 = Basemap(projection='merc', llcrnrlon=-25, llcrnrlat=63, urcrnrlon=-13, urcrnrlat=67, resolution='i')\n",
    "m4.drawcoastlines()"
   ]
  },
  {
   "cell_type": "markdown",
   "metadata": {
    "ein.tags": [
     "worksheet-0"
    ]
   },
   "source": [
    "Let's plot the snow- and ice-cover points. We can re-use the snow/ice row/column variables we computed previously, but need to recompute the coordinates since we are using a different map projection (Mercator, instead of North Polar Stereographic)."
   ]
  },
  {
   "cell_type": "code",
   "execution_count": null,
   "metadata": {
    "autoscroll": "json-false",
    "collapsed": false,
    "ein.tags": [
     "worksheet-0"
    ]
   },
   "outputs": [],
   "source": [
    "plt.figure(figsize=(10, 10))\n",
    "m5 = Basemap(projection='merc', llcrnrlon=-25, llcrnrlat=63, urcrnrlon=-13, urcrnrlat=67, resolution='i')\n",
    "m5.drawcoastlines()\n",
    "\n",
    "x_snow5, y_snow5 = m5(iceland_longitude[row_snow3, col_snow3], iceland_latitude[row_snow3, col_snow3])\n",
    "x_ice5, y_ice5 = m5(iceland_longitude[row_ice3, col_ice3], iceland_latitude[row_ice3, col_ice3])\n",
    "\n",
    "m5.scatter(x_ice5, y_ice5, s=100, color='Blue')\n",
    "m5.scatter(x_snow5, y_snow5, s=100, color='Cyan')"
   ]
  },
  {
   "cell_type": "markdown",
   "metadata": {
    "ein.tags": [
     "worksheet-0"
    ]
   },
   "source": [
    "If we add some (admittedly lo-res) background imagery, we can see that the permanent ice is located in what appear to be sensible places:"
   ]
  },
  {
   "cell_type": "code",
   "execution_count": null,
   "metadata": {
    "autoscroll": "json-false",
    "collapsed": false,
    "ein.tags": [
     "worksheet-0"
    ]
   },
   "outputs": [],
   "source": [
    "plt.figure(figsize=(10, 10))\n",
    "m6 = Basemap(projection='merc', llcrnrlon=-25, llcrnrlat=63, urcrnrlon=-13, urcrnrlat=67, resolution='i')\n",
    "m6.scatter(x_snow5, y_snow5, s=100, color='Cyan')\n",
    "m6.scatter(x_ice5, y_ice5, s=100, color='Blue')\n",
    "m6.bluemarble()"
   ]
  },
  {
   "cell_type": "markdown",
   "metadata": {},
   "source": [
    "There are certainly more sophisticated ways to visualize these data. In the `module-3-extra` notebook in the `extra` folder, there's an example of something a bit nicer. But hopefully this gives an idea of what's possible."
   ]
  },
  {
   "cell_type": "markdown",
   "metadata": {
    "ein.tags": [
     "worksheet-0"
    ]
   },
   "source": [
    "In Module 4, we'll look at using pandas to do some data analysis."
   ]
  }
 ],
 "metadata": {
  "anaconda-cloud": {},
  "kernelspec": {
   "display_name": "Python [python3]",
   "language": "python",
   "name": "Python [python3]"
  },
  "language_info": {
   "codemirror_mode": {
    "name": "ipython",
    "version": 3
   },
   "file_extension": ".py",
   "mimetype": "text/x-python",
   "name": "python",
   "nbconvert_exporter": "python",
   "pygments_lexer": "ipython3",
   "version": "3.5.2"
  },
  "name": "module-3.ipynb"
 },
 "nbformat": 4,
 "nbformat_minor": 0
}
