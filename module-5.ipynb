{
 "cells": [
  {
   "cell_type": "markdown",
   "metadata": {
    "ein.tags": [
     "worksheet-0"
    ]
   },
   "source": [
    "<p style=\"float:right\">\n",
    "<img src=\"images/logos/cu.png\" style=\"display:inline\" />\n",
    "<img src=\"images/logos/cires.png\" style=\"display:inline\" />\n",
    "<img src=\"images/logos/nasa.png\" style=\"display:inline\" />\n",
    "<img src=\"images/logos/nsidc_daac.png\" style=\"display:inline\" />\n",
    "</p>\n",
    "\n",
    "# Python, Jupyter & pandas: Module 5"
   ]
  },
  {
   "cell_type": "markdown",
   "metadata": {},
   "source": [
    "## Inference / visualization, and working with xarray"
   ]
  },
  {
   "cell_type": "markdown",
   "metadata": {},
   "source": [
    "### Simple inference and more visualization"
   ]
  },
  {
   "cell_type": "code",
   "execution_count": null,
   "metadata": {
    "autoscroll": "json-false",
    "collapsed": false,
    "ein.tags": [
     "worksheet-0"
    ]
   },
   "outputs": [],
   "source": [
    "%matplotlib inline\n",
    "import matplotlib as mpl\n",
    "import matplotlib.pyplot as plt\n",
    "import numpy as np\n",
    "import pandas as pd"
   ]
  },
  {
   "cell_type": "markdown",
   "metadata": {
    "ein.tags": [
     "worksheet-0"
    ]
   },
   "source": [
    "Let's create other kinds of graphs from the data we looked at in the previous module. We'll read in the .csv file we saved at the end of Module 4.\n",
    "\n",
    "_**Note**: Please be sure to run the Module 4 that notebook before proceeding. Otherwise, the .csv file will not exist._"
   ]
  },
  {
   "cell_type": "code",
   "execution_count": null,
   "metadata": {
    "autoscroll": "json-false",
    "collapsed": false,
    "ein.tags": [
     "worksheet-0"
    ]
   },
   "outputs": [],
   "source": [
    "monthly = pd.read_csv('monthly-extents.csv', index_col='date', parse_dates=True)\n",
    "print(type(monthly))\n",
    "monthly.head()"
   ]
  },
  {
   "cell_type": "markdown",
   "metadata": {
    "ein.tags": [
     "worksheet-0"
    ]
   },
   "source": [
    "We're going to look for a trend in the northern-hemisphere June snow cover.\n",
    "\n",
    "First, as we did in Module 4, we'll create a new `DataFrame` indexed by years, with a column for each month."
   ]
  },
  {
   "cell_type": "code",
   "execution_count": null,
   "metadata": {
    "autoscroll": "json-false",
    "collapsed": false,
    "ein.tags": [
     "worksheet-0"
    ]
   },
   "outputs": [],
   "source": [
    "year_by_month = monthly.set_index([monthly.index.year, monthly.index.month]).unstack(1)\n",
    "year_by_month.head()"
   ]
  },
  {
   "cell_type": "markdown",
   "metadata": {},
   "source": [
    "Now let's create and then graph a new series representing snow-cover anomalies from the mean for all Junes:"
   ]
  },
  {
   "cell_type": "code",
   "execution_count": null,
   "metadata": {
    "autoscroll": "json-false",
    "collapsed": false,
    "ein.tags": [
     "worksheet-0"
    ]
   },
   "outputs": [],
   "source": [
    "mean = year_by_month['snowcover'][6].mean()\n",
    "june_anomalies = year_by_month['snowcover'][6] - mean\n",
    "june_anomalies = june_anomalies.dropna()\n",
    "print(type(june_anomalies))\n",
    "\n",
    "plt.figure(figsize=(15, 4))\n",
    "june_anomalies.plot(title='Northern Hemisphere Snow Cover Anomalies: June', kind='bar', color='r')"
   ]
  },
  {
   "cell_type": "markdown",
   "metadata": {
    "ein.tags": [
     "worksheet-0"
    ]
   },
   "source": [
    "Now we'll:\n",
    "- Use NumPy's [`polyfit()`](http://docs.scipy.org/doc/numpy-1.10.0/reference/generated/numpy.polyfit.html) to compute slope and intercept for a least-squares fit line\n",
    "- Use NumPy's [`poly1d`](http://docs.scipy.org/doc/numpy-1.10.1/reference/generated/numpy.poly1d.html) to create a function representing this line\n",
    "- Apply the linear function to our anomalies data frame's index to produce an array of points on the best-fit line\n",
    "- Plot the anomalies together with the best-fit line"
   ]
  },
  {
   "cell_type": "code",
   "execution_count": null,
   "metadata": {
    "autoscroll": "json-false",
    "collapsed": false,
    "ein.tags": [
     "worksheet-0"
    ]
   },
   "outputs": [],
   "source": [
    "# polyfit arguments are: x-values, y-values, polynomial-degree\n",
    "slope, intercept = np.polyfit(june_anomalies.index.values, june_anomalies.values, 1)\n",
    "fit_function = np.poly1d([slope, intercept])\n",
    "best_fit = fit_function(june_anomalies.index)\n",
    "\n",
    "plt.figure(figsize=(15, 4))\n",
    "june_anomalies.plot(title='Northern Hemisphere Snow Cover Anomalies: June',kind='Bar', color='r')\n",
    "plt.plot(best_fit, color='b', linestyle='--')"
   ]
  },
  {
   "cell_type": "markdown",
   "metadata": {},
   "source": [
    "We can use [Plotly](https://plot.ly/) to create an interactive graph to more closely examine the anomaly values. Let's do some imports and initial setup:"
   ]
  },
  {
   "cell_type": "code",
   "execution_count": null,
   "metadata": {
    "collapsed": false
   },
   "outputs": [],
   "source": [
    "import plotly\n",
    "import plotly.graph_objs as go\n",
    "plotly.offline.init_notebook_mode()"
   ]
  },
  {
   "cell_type": "markdown",
   "metadata": {},
   "source": [
    "Plotly's API is very declarative. Here, we'll use some of the basic settings to create a graph similar to the previous one. This may seem like a lot of declaration, but we'll see that the results are worth it:\n",
    "\n",
    "First, we define the bar-chart bars representing anomaly magnitude:"
   ]
  },
  {
   "cell_type": "code",
   "execution_count": null,
   "metadata": {
    "collapsed": true
   },
   "outputs": [],
   "source": [
    "snow_cover_anomalies = go.Bar(\n",
    "    # data\n",
    "    x=june_anomalies.index,\n",
    "    y=june_anomalies,\n",
    "    # style\n",
    "    name='Anomaly',\n",
    "    marker={'color': 'red'},\n",
    "    hoverinfo='y'\n",
    ")"
   ]
  },
  {
   "cell_type": "markdown",
   "metadata": {},
   "source": [
    "Next, we define the best-fit line:"
   ]
  },
  {
   "cell_type": "code",
   "execution_count": null,
   "metadata": {
    "collapsed": true
   },
   "outputs": [],
   "source": [
    "snow_cover_trend = go.Scatter(\n",
    "    # data\n",
    "    x=june_anomalies.index,\n",
    "    y=best_fit,\n",
    "    # style\n",
    "    name='Best Fit',\n",
    "    line ={'dash': 8, 'color': 'blue'},\n",
    "    hoverinfo='y'\n",
    ")"
   ]
  },
  {
   "cell_type": "markdown",
   "metadata": {},
   "source": [
    "And the general layout for the plot:"
   ]
  },
  {
   "cell_type": "code",
   "execution_count": null,
   "metadata": {
    "collapsed": true
   },
   "outputs": [],
   "source": [
    "layout = go.Layout(\n",
    "    title='Northern Hemisphere Snow Cover Anomalies: June',\n",
    "    xaxis={\n",
    "        'tickmode': 'linear',\n",
    "        'dtick': 5,\n",
    "        'showline': True,\n",
    "        'showgrid': True\n",
    "    },\n",
    "    yaxis={\n",
    "        'showline': True\n",
    "    }\n",
    ")"
   ]
  },
  {
   "cell_type": "markdown",
   "metadata": {},
   "source": [
    "Finally, we combine the bars and line data components, combine them with the layout, and produce a figure that we can plot:"
   ]
  },
  {
   "cell_type": "code",
   "execution_count": null,
   "metadata": {
    "collapsed": false
   },
   "outputs": [],
   "source": [
    "data = go.Data([snow_cover_anomalies, snow_cover_trend])\n",
    "figure = go.Figure({'data': data, 'layout': layout})"
   ]
  },
  {
   "cell_type": "markdown",
   "metadata": {},
   "source": [
    "When we plot, note that we can hover on the graph to see the actual data values at that point in time, click on the legend to show/hide graph objects, click and drag to zoom various areas, etc."
   ]
  },
  {
   "cell_type": "code",
   "execution_count": null,
   "metadata": {
    "collapsed": false
   },
   "outputs": [],
   "source": [
    "plotly.offline.iplot(figure)"
   ]
  },
  {
   "cell_type": "markdown",
   "metadata": {},
   "source": [
    "### Working with xarray"
   ]
  },
  {
   "cell_type": "markdown",
   "metadata": {
    "ein.tags": [
     "worksheet-0"
    ]
   },
   "source": [
    "# [xarray](http://xarray.pydata.org/en/stable/)\n",
    "\n",
    "     \"xarray (formerly xray) is an open source project and Python package\n",
    "     that aims to bring the labeled data power of pandas to the physical\n",
    "     sciences, by providing N-dimensional variants of the core pandas data\n",
    "     structures.\""
   ]
  },
  {
   "cell_type": "markdown",
   "metadata": {
    "ein.tags": [
     "worksheet-0"
    ]
   },
   "source": [
    "With xarray, we can open a NetCDF file as an `xarray.Dataset` and avoid much of the grunt work of setting up dimensions and converting axes:"
   ]
  },
  {
   "cell_type": "code",
   "execution_count": null,
   "metadata": {
    "autoscroll": "json-false",
    "collapsed": false,
    "ein.tags": [
     "worksheet-0"
    ]
   },
   "outputs": [],
   "source": [
    "import xarray as xr"
   ]
  },
  {
   "cell_type": "markdown",
   "metadata": {
    "ein.tags": [
     "worksheet-0"
    ]
   },
   "source": [
    "We can attach a `Dataset` variable to a NetCDF endpoint or local file with `xarray.open_dataset()`. In this case, we have a local, zipped data file we will use -- the same northern-hemisphere snow-cover data we used in Module 4."
   ]
  },
  {
   "cell_type": "code",
   "execution_count": null,
   "metadata": {
    "collapsed": false
   },
   "outputs": [],
   "source": [
    "%%bash\n",
    "rm -f nhsce_v01r01_19661004_20160201.nc\n",
    "unzip $PWD/data/nhsce_v01r01_19661004_20160201.nc.zip"
   ]
  },
  {
   "cell_type": "code",
   "execution_count": null,
   "metadata": {
    "autoscroll": "json-false",
    "collapsed": false,
    "ein.tags": [
     "worksheet-0"
    ]
   },
   "outputs": [],
   "source": [
    "# To read from the DODs/OPeNDAP NetCDF endpoint, use URL\n",
    "#   'http://www.ncdc.noaa.gov/thredds/dodsC/cdr/snowcover/nhsce_v01r01_19661004_latest.nc'\n",
    "\n",
    "snowcover_file = 'nhsce_v01r01_19661004_20160201.nc'\n",
    "dataset = xr.open_dataset(snowcover_file)\n",
    "dataset"
   ]
  },
  {
   "cell_type": "markdown",
   "metadata": {
    "ein.tags": [
     "worksheet-0"
    ]
   },
   "source": [
    "Let's look at the dataset's dimensions attribute:"
   ]
  },
  {
   "cell_type": "code",
   "execution_count": null,
   "metadata": {
    "autoscroll": "json-false",
    "collapsed": false,
    "ein.tags": [
     "worksheet-0"
    ]
   },
   "outputs": [],
   "source": [
    "dataset.dims"
   ]
  },
  {
   "cell_type": "markdown",
   "metadata": {
    "ein.tags": [
     "worksheet-0"
    ]
   },
   "source": [
    "And its indexes attribute:"
   ]
  },
  {
   "cell_type": "code",
   "execution_count": null,
   "metadata": {
    "autoscroll": "json-false",
    "collapsed": false,
    "ein.tags": [
     "worksheet-0"
    ]
   },
   "outputs": [],
   "source": [
    "dataset.indexes"
   ]
  },
  {
   "cell_type": "markdown",
   "metadata": {
    "ein.tags": [
     "worksheet-0"
    ]
   },
   "source": [
    "Notice that xarray has already taken care of converting the time coordinate into a `DatetimeIndex` (as opposed to how we manually converted it in Module 4)."
   ]
  },
  {
   "cell_type": "markdown",
   "metadata": {
    "ein.tags": [
     "worksheet-0"
    ]
   },
   "source": [
    "List the dataset's variables:"
   ]
  },
  {
   "cell_type": "code",
   "execution_count": null,
   "metadata": {
    "autoscroll": "json-false",
    "collapsed": false,
    "ein.tags": [
     "worksheet-0"
    ]
   },
   "outputs": [],
   "source": [
    "dataset.data_vars"
   ]
  },
  {
   "cell_type": "markdown",
   "metadata": {
    "ein.tags": [
     "worksheet-0"
    ]
   },
   "source": [
    "We can access the variables as attributes (e.g. `dataset.land`) or dictionary keys (e.g. `dataset['land']`).\n",
    "\n",
    "Accessing a `DataSet` attribute yields a `DataArray`."
   ]
  },
  {
   "cell_type": "code",
   "execution_count": null,
   "metadata": {
    "autoscroll": "json-false",
    "collapsed": false,
    "ein.tags": [
     "worksheet-0"
    ]
   },
   "outputs": [],
   "source": [
    "dataset.land"
   ]
  },
  {
   "cell_type": "markdown",
   "metadata": {
    "ein.tags": [
     "worksheet-0"
    ]
   },
   "source": [
    "So as in Module 4, we have access to all of the data and indexes from the endpoint/file."
   ]
  },
  {
   "cell_type": "markdown",
   "metadata": {
    "ein.tags": [
     "worksheet-0"
    ]
   },
   "source": [
    "Let's look at the `DataArray`'s Snow Cover Extent data."
   ]
  },
  {
   "cell_type": "code",
   "execution_count": null,
   "metadata": {
    "autoscroll": "json-false",
    "collapsed": false,
    "ein.tags": [
     "worksheet-0"
    ]
   },
   "outputs": [],
   "source": [
    "snow_cover_extent = dataset.snow_cover_extent\n",
    "snow_cover_extent"
   ]
  },
  {
   "cell_type": "markdown",
   "metadata": {
    "ein.tags": [
     "worksheet-0"
    ]
   },
   "source": [
    "Note the second line of output.\n",
    "\n",
    "> `[19933056 values with dtype=float64]`\n",
    "\n",
    "\n",
    "This indicates that the operation of loading the data has been deferred; that is, we have not retrieved all the values from the file or endpoint -- just the metadata, which is what we're seeing. When we access the `.values` or `.data` attributes, we force the loading of the actual data and see the above summary replaced by a printed representation of the actual `numpy.ndarray`.\n",
    "\n",
    "This deferred loading allows us to examine a data source and load only what we really need, which is helpful when examining a large dataset."
   ]
  },
  {
   "cell_type": "markdown",
   "metadata": {
    "ein.tags": [
     "worksheet-0"
    ]
   },
   "source": [
    "### We can access data in `DataArray`s a number of ways.\n",
    "\n",
    "By indexing positionally by integer:"
   ]
  },
  {
   "cell_type": "code",
   "execution_count": null,
   "metadata": {
    "collapsed": false
   },
   "outputs": [],
   "source": [
    "# grabbing the 2402nd time slice in the file\n",
    "snow_cover_extent[2401]"
   ]
  },
  {
   "cell_type": "markdown",
   "metadata": {
    "ein.tags": [
     "worksheet-0"
    ]
   },
   "source": [
    "We can see the order of the dimensions, and subset accordingly."
   ]
  },
  {
   "cell_type": "code",
   "execution_count": null,
   "metadata": {
    "autoscroll": "json-false",
    "collapsed": false,
    "ein.tags": [
     "worksheet-0"
    ]
   },
   "outputs": [],
   "source": [
    "snow_cover_extent.dims"
   ]
  },
  {
   "cell_type": "code",
   "execution_count": null,
   "metadata": {
    "autoscroll": "json-false",
    "collapsed": false,
    "ein.tags": [
     "worksheet-0"
    ]
   },
   "outputs": [],
   "source": [
    "a_slice = snow_cover_extent[2400:2403, 30:35, 35:41]\n",
    "a_slice"
   ]
  },
  {
   "cell_type": "markdown",
   "metadata": {},
   "source": [
    "Take a quick look back at the full `snow_cover_extent` data array:"
   ]
  },
  {
   "cell_type": "code",
   "execution_count": null,
   "metadata": {
    "collapsed": false
   },
   "outputs": [],
   "source": [
    "snow_cover_extent"
   ]
  },
  {
   "cell_type": "markdown",
   "metadata": {
    "ein.tags": [
     "worksheet-0"
    ]
   },
   "source": [
    "Note that loading of the values remains deferred.\n",
    "\n",
    "So, to create `a_slice`, this operation retrieved only the data necessary from the data source. (This is less important when we're working with a local file, but potentially crucial when working with remote data sources over the network.)"
   ]
  },
  {
   "cell_type": "markdown",
   "metadata": {
    "ein.tags": [
     "worksheet-0"
    ]
   },
   "source": [
    "We can grab a slice by integer along a named index with [`DataArray.isel`](http://xarray.pydata.org/en/stable/generated/xarray.DataArray.isel.html) (_isel_ for **i**nteger **sel**ect):"
   ]
  },
  {
   "cell_type": "code",
   "execution_count": null,
   "metadata": {
    "autoscroll": "json-false",
    "collapsed": false,
    "ein.tags": [
     "worksheet-0"
    ]
   },
   "outputs": [],
   "source": [
    "snow_cover_extent.isel(rows=slice(30, 40, 2), time=slice(970, 972), cols=slice(40, 45))"
   ]
  },
  {
   "cell_type": "markdown",
   "metadata": {
    "ein.tags": [
     "worksheet-0"
    ]
   },
   "source": [
    "Or we can take slices using an index's native type and [`DataArray.sel`](http://xarray.pydata.org/en/stable/generated/xarray.DataArray.sel.html):"
   ]
  },
  {
   "cell_type": "code",
   "execution_count": null,
   "metadata": {
    "autoscroll": "json-false",
    "collapsed": false,
    "ein.tags": [
     "worksheet-0"
    ]
   },
   "outputs": [],
   "source": [
    "snow_cover_extent.sel(time=slice('2010-01-01', '2011-01-02'))"
   ]
  },
  {
   "cell_type": "markdown",
   "metadata": {},
   "source": [
    "Note that, despite taking these slices, loading the full variable data remains deferred. We can force the loading of `snow_cover_extent`'s full data by accessing its `values` attribute:"
   ]
  },
  {
   "cell_type": "code",
   "execution_count": null,
   "metadata": {
    "collapsed": true
   },
   "outputs": [],
   "source": [
    "downloaded_data = snow_cover_extent.values"
   ]
  },
  {
   "cell_type": "markdown",
   "metadata": {},
   "source": [
    "Note that the data summary has been replaced by a description of the data array that has been created by downloading the full set of data values:"
   ]
  },
  {
   "cell_type": "code",
   "execution_count": null,
   "metadata": {
    "collapsed": false
   },
   "outputs": [],
   "source": [
    "snow_cover_extent"
   ]
  },
  {
   "cell_type": "markdown",
   "metadata": {},
   "source": [
    "The `module-5-extra` notebook in the `extra` folder goes further with xarray, creating a beautiful interactive plot using this data and a number of new techniques. Check it out!"
   ]
  },
  {
   "cell_type": "markdown",
   "metadata": {},
   "source": [
    "In Module 6, we'll look at some ways of sharing Jupyter notebooks online."
   ]
  }
 ],
 "metadata": {
  "anaconda-cloud": {},
  "kernelspec": {
   "display_name": "Python [binder]",
   "language": "python",
   "name": "Python [binder]"
  },
  "language_info": {
   "codemirror_mode": {
    "name": "ipython",
    "version": 3
   },
   "file_extension": ".py",
   "mimetype": "text/x-python",
   "name": "python",
   "nbconvert_exporter": "python",
   "pygments_lexer": "ipython3",
   "version": "3.5.2"
  },
  "name": "module-5.ipynb"
 },
 "nbformat": 4,
 "nbformat_minor": 0
}
