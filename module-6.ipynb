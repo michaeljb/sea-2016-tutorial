{
 "cells": [
  {
   "cell_type": "markdown",
   "metadata": {
    "collapsed": true
   },
   "source": [
    "<p style=\"float:right\">\n",
    "<img src=\"images/logos/cu.png\" style=\"display:inline\" />\n",
    "<img src=\"images/logos/cires.png\" style=\"display:inline\" />\n",
    "<img src=\"images/logos/nasa.png\" style=\"display:inline\" />\n",
    "<img src=\"images/logos/nsidc_daac.png\" style=\"display:inline\" />\n",
    "</p>\n",
    "\n",
    "# Python, Jupyter & pandas: Module 6"
   ]
  },
  {
   "cell_type": "markdown",
   "metadata": {},
   "source": [
    "## Sharing and collaboration"
   ]
  },
  {
   "cell_type": "markdown",
   "metadata": {},
   "source": [
    "Now we'll look at some options for sharing and collaborating via Jupyter notebooks."
   ]
  },
  {
   "cell_type": "markdown",
   "metadata": {},
   "source": [
    "### Static solutions"
   ]
  },
  {
   "cell_type": "markdown",
   "metadata": {},
   "source": [
    "#### nbviewer\n",
    "\n",
    "The [nbiewer](http://nbviewer.jupyter.org/) service, provided by Project Jupyter, provides a way to share static, pre-rendered Jupyter notebooks by URL, GitHub username (and, optionally, public repo name), or GitHub gist ID.\n",
    "\n",
    "Here's our own Module 0 notebook, fairly minimally rendered by nbiewer:\n",
    "\n",
    "http://nbviewer.jupyter.org/github/p-madden/sea-2016-tutorial/blob/master/module-0.ipynb\n",
    "\n",
    "nbviewer-hosted notebooks cannot be edited live, and cells are shown with their last-recorded evaluation."
   ]
  },
  {
   "cell_type": "markdown",
   "metadata": {},
   "source": [
    "#### GitHub\n",
    "\n",
    "GitHub [offers notebook viewing](https://github.com/blog/1995-github-jupyter-notebooks-3) for notebooks hosted with them, either as repo contents or gists. Like NBViewer, GitHub-rendered notebooks cannot be edited live and show their saved evaluation state.\n",
    "\n",
    "Here's GitHub's slightly more cluttered take on our Module 0 notebook:\n",
    "\n",
    "https://github.com/p-madden/sea-2016-tutorial/blob/master/module-0.ipynb\n",
    "\n",
    "GitHub maintains a list of [interesting IPython notebooks](https://github.com/ipython/ipython/wiki/A-gallery-of-interesting-IPython-Notebooks)."
   ]
  },
  {
   "cell_type": "markdown",
   "metadata": {},
   "source": [
    "### Dynamic Solutions"
   ]
  },
  {
   "cell_type": "markdown",
   "metadata": {},
   "source": [
    "#### tmpnb\n",
    "\n",
    "[Rackspace](https://www.rackspace.com) provides a free service, [tmpnb](https://tmpnb.org), that _will_ perofrm actual computation in Jupyter notebooks. You can upload, or create interactively, a notebook on the site, then edit and run cells live.\n",
    "\n",
    "However, as the _tmp_ in _tmpnb_ suggests, notebooks are temporary: They are deleted after 10 minutes of inactivity."
   ]
  },
  {
   "cell_type": "markdown",
   "metadata": {},
   "source": [
    "Also, it's possible that not every package you'll want to use will be available. You can look at the packages available to any Jupyter notebook with this code snippet:"
   ]
  },
  {
   "cell_type": "code",
   "execution_count": null,
   "metadata": {
    "collapsed": false
   },
   "outputs": [],
   "source": [
    "import pip\n",
    "for package in sorted(['%s==%s' % (x.key, x.version) for x in pip.get_installed_distributions()]):\n",
    "    print(package)"
   ]
  },
  {
   "cell_type": "markdown",
   "metadata": {},
   "source": [
    "#### JupyterHub\n",
    "\n",
    "[JupyterHub](https://github.com/jupyter/jupyterhub) is a multi-user server providing functionality similar to tmpnb, but hosted on your own system, giving you more options and greater control. JupyterHub notebooks are not temporary like tmpnb's, and you can make whatever Python packages you like available to your users by installing them on the system running the JupyterHub server.\n",
    "\n",
    "In fact, if you have been using the provided VirtualBox virtual machine image for this tutorial, you have been using JupyterHub."
   ]
  }
 ],
 "metadata": {
  "kernelspec": {
   "display_name": "Python [sea]",
   "language": "python",
   "name": "Python [sea]"
  },
  "language_info": {
   "codemirror_mode": {
    "name": "ipython",
    "version": 3
   },
   "file_extension": ".py",
   "mimetype": "text/x-python",
   "name": "python",
   "nbconvert_exporter": "python",
   "pygments_lexer": "ipython3",
   "version": "3.5.2"
  }
 },
 "nbformat": 4,
 "nbformat_minor": 0
}
